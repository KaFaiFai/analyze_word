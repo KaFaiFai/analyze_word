{
 "cells": [
  {
   "cell_type": "code",
   "execution_count": 1,
   "metadata": {},
   "outputs": [],
   "source": [
    "import json\n",
    "import random"
   ]
  },
  {
   "cell_type": "code",
   "execution_count": 2,
   "metadata": {},
   "outputs": [
    {
     "name": "stdout",
     "output_type": "stream",
     "text": [
      "32 abcdefghijklmnopqrstuvwxyzáéíñóú\n",
      "len(vocabs_pool)=438\n",
      "len(exclusive_pool)=438\n"
     ]
    }
   ],
   "source": [
    "lang = \"es\"\n",
    "diff = \"easy\"\n",
    "length = 4\n",
    "\n",
    "vocabs_pool: set[str] = set()\n",
    "exclusive_pool: set[str] = set()\n",
    "alphabets: set[str] = set()\n",
    "\n",
    "with open(rf\"vocabs\\{lang}\\{lang}-len{length}-{diff}.json\") as file:\n",
    "    json_data = json.load(file)\n",
    "    for d in json_data:\n",
    "        vocabs_pool.add(d)\n",
    "        exclusive_pool.add(d)\n",
    "        alphabets = alphabets.union(set(d))\n",
    "\n",
    "# with open(r\"vocabs\\{lang}\\{lang}-len{length}-medium.json\") as file:\n",
    "#     json_data = json.load(file)\n",
    "#     for d in json_data:\n",
    "#         exclusive_pool.remove(d)\n",
    "\n",
    "num_vocabs = len(vocabs_pool)\n",
    "print(len(alphabets), \"\".join(sorted(alphabets)))\n",
    "print(f\"{len(vocabs_pool)=}\")\n",
    "print(f\"{len(exclusive_pool)=}\")"
   ]
  },
  {
   "cell_type": "code",
   "execution_count": 3,
   "metadata": {},
   "outputs": [
    {
     "name": "stdout",
     "output_type": "stream",
     "text": [
      "{'abí', 'abn', 'aqc', 'ayc', 'abó', 'abz', 'pbc', 'rbc', 'acc', 'ybc', 'atc', 'nbc', 'vbc', 'aic', 'avc', 'fbc', 'abe', 'wbc', 'dbc', 'zbc', 'ébc', 'aba', 'ábc', 'abd', 'sbc', 'abo', 'axc', 'awc', 'aoc', 'abq', 'auc', 'ibc', 'apc', 'abm', 'qbc', 'ubc', 'abú', 'aéc', 'ahc', 'aby', 'aec', 'íbc', 'abi', 'abx', 'afc', 'abf', 'abu', 'amc', 'abá', 'abñ', 'lbc', 'ajc', 'mbc', 'abp', 'abt', 'adc', 'azc', 'gbc', 'ñbc', 'abé', 'abl', 'abw', 'kbc', 'abh', 'abr', 'abb', 'ebc', 'akc', 'anc', 'agc', 'jbc', 'aúc', 'úbc', 'obc', 'aóc', 'aíc', 'xbc', 'hbc', 'abv', 'aác', 'bbc', 'abj', 'aac', 'arc', 'abg', 'abk', 'óbc', 'tbc', 'cbc', 'asc', 'abs', 'añc', 'alc'}\n"
     ]
    }
   ],
   "source": [
    "def change_character(vocab: str) -> set[str]:\n",
    "    new_vocabs = set()\n",
    "    for i, c in enumerate(vocab):\n",
    "        for a in alphabets:\n",
    "            if a != c:\n",
    "                new_vocab = vocab[:i] + a + vocab[i + 1 :]\n",
    "                new_vocabs.add(new_vocab)\n",
    "\n",
    "    return new_vocabs\n",
    "\n",
    "\n",
    "print(change_character(\"abc\"))"
   ]
  },
  {
   "cell_type": "code",
   "execution_count": 4,
   "metadata": {},
   "outputs": [],
   "source": [
    "def character_difference(from_: str, to: str) -> int:\n",
    "    count = 0\n",
    "    for c1, c2 in zip(from_, to):\n",
    "        if c1 != c2:\n",
    "            count += 1\n",
    "    return count"
   ]
  },
  {
   "cell_type": "code",
   "execution_count": 5,
   "metadata": {},
   "outputs": [],
   "source": [
    "def distance(\n",
    "    from_: str, to: str, max_distance: int | None = None\n",
    ") -> tuple[int, list[str]]:\n",
    "    vocab_path = {from_: \"\"}\n",
    "    queue = [(from_, 0)]\n",
    "    while queue:\n",
    "        (cur_vocab, cur_distance) = queue.pop(0)\n",
    "        if cur_vocab == to:\n",
    "            path = [cur_vocab]\n",
    "            while path[0] != from_:\n",
    "                path.insert(0, vocab_path[path[0]])\n",
    "            return (cur_distance, path)\n",
    "\n",
    "        if cur_distance == max_distance:\n",
    "            continue\n",
    "\n",
    "        for new_vocab in change_character(cur_vocab):\n",
    "            if (new_vocab not in vocab_path) and (new_vocab in vocabs_pool):\n",
    "                vocab_path[new_vocab] = cur_vocab\n",
    "                queue.append((new_vocab, cur_distance + 1))\n",
    "\n",
    "    return (-1, [])"
   ]
  },
  {
   "cell_type": "code",
   "execution_count": 6,
   "metadata": {},
   "outputs": [
    {
     "name": "stdout",
     "output_type": "stream",
     "text": [
      "(-1, [])\n",
      "(-1, [])\n",
      "(-1, [])\n",
      "(-1, [])\n",
      "(-1, [])\n"
     ]
    }
   ],
   "source": [
    "print(distance(\"admin\", \"admit\"))\n",
    "print(distance(\"line\", \"firm\"))\n",
    "print(distance(\"war\", \"him\"))\n",
    "print(distance(\"センセイ\", \"モンダイ\"))\n",
    "print(distance(\"caro\", \"mano\"))"
   ]
  },
  {
   "cell_type": "code",
   "execution_count": 7,
   "metadata": {},
   "outputs": [
    {
     "name": "stdout",
     "output_type": "stream",
     "text": [
      "checking \"opep\"| 0/438\n",
      "checking \"hubo\"| 43/438\n",
      "checking \"paul\"| 86/438\n",
      "checking \"aviv\"| 129/438\n",
      "checking \"área\"| 172/438\n",
      "checking \"lima\"| 215/438\n",
      "checking \"bajó\"| 258/438\n",
      "checking \"ello\"| 301/438\n",
      "checking \"japn\"| 344/438\n",
      "checking \"jean\"| 387/438\n",
      "checking \"caos\"| 430/438\n",
      "pair rate: 7038/191406 = 3.68%\n",
      "exclusive pair rate: 7038/191406 = 3.68%\n",
      "starter: 247/438 = 56.39%\n",
      "participation: 253/438 = 57.76%\n"
     ]
    }
   ],
   "source": [
    "# easy: {\"max_distance\": 4, \"min_distance\": 3, \"strict\": False}\n",
    "\n",
    "max_distance = 4\n",
    "strict = False\n",
    "min_distance = 3\n",
    "\n",
    "count = 0\n",
    "count_exclusive = 0\n",
    "starter = set()\n",
    "involved = set()\n",
    "pairs: list[tuple[str, str]] = []\n",
    "\n",
    "for i, v1 in enumerate(vocabs_pool):\n",
    "    for j, v2 in enumerate(vocabs_pool):\n",
    "        dist = distance(v1, v2, max_distance=max_distance)\n",
    "        if strict:\n",
    "            difference = character_difference(v1, v2)\n",
    "            flag = dist[0] > difference and dist[0] >= min_distance\n",
    "        else:\n",
    "            flag = dist[0] >= min_distance\n",
    "\n",
    "        if flag:\n",
    "            count += 1\n",
    "            starter.add(v1)\n",
    "            involved = involved.union(set(dist[1]))\n",
    "            # print(dist)\n",
    "\n",
    "            if any(v in exclusive_pool for v in dist[1]):\n",
    "                count_exclusive += 1\n",
    "                pairs.append((v1, v2))\n",
    "\n",
    "    if i % (num_vocabs // 10) == 0:\n",
    "        print(f'checking \"{v1}\"| {i}/{num_vocabs}')\n",
    "\n",
    "total_combinations = num_vocabs * (num_vocabs - 1)\n",
    "\n",
    "pair_rate = count / total_combinations\n",
    "print(f\"pair rate: {count}/{total_combinations} = {pair_rate:.2%}\")\n",
    "\n",
    "exclusive_rate = count_exclusive / total_combinations\n",
    "print(\n",
    "    f\"exclusive pair rate: {count_exclusive}/{total_combinations} = {exclusive_rate:.2%}\"\n",
    ")\n",
    "\n",
    "starter_rate = len(starter) / num_vocabs\n",
    "print(f\"starter: {len(starter)}/{num_vocabs} = {starter_rate:.2%}\")\n",
    "\n",
    "participation_rate = len(involved) / num_vocabs\n",
    "print(f\"participation: {len(involved)}/{num_vocabs} = {participation_rate:.2%}\")"
   ]
  },
  {
   "cell_type": "code",
   "execution_count": 8,
   "metadata": {},
   "outputs": [
    {
     "name": "stdout",
     "output_type": "stream",
     "text": [
      "(4, ['visa', 'misa', 'masa', 'casa', 'cosa'])\n",
      "(3, ['gama', 'dama', 'daba', 'haba'])\n",
      "(3, ['rama', 'lama', 'lara', 'para'])\n",
      "(4, ['vive', 'viva', 'visa', 'misa', 'mira'])\n",
      "(4, ['mata', 'mala', 'gala', 'gama', 'lama'])\n"
     ]
    }
   ],
   "source": [
    "random.seed(0)\n",
    "pairs_shuffled = pairs[:]\n",
    "random.shuffle(pairs_shuffled)\n",
    "with open(rf\"vocabs\\{lang}\\{lang}-len{length}-pairs-{diff}.json\", \"w\") as f:\n",
    "    json.dump(pairs_shuffled, f)\n",
    "\n",
    "for i in range(5):\n",
    "    pair = pairs_shuffled[i]\n",
    "    dist = distance(pair[0], pair[1])\n",
    "    print(dist)"
   ]
  },
  {
   "cell_type": "code",
   "execution_count": 9,
   "metadata": {},
   "outputs": [],
   "source": [
    "def create_distance_graph():\n",
    "    distance_graph: dict[tuple[str, str], tuple[int, list[str]]] = {}\n",
    "\n",
    "    def calculate_distance(from_: str, to: str):\n",
    "        if (from_, to) in distance_graph:\n",
    "            return\n",
    "\n",
    "        min_distance = -1\n",
    "        min_path = []\n",
    "        for new_vocab in change_character(from_):\n",
    "            if new_vocab in vocabs_pool:\n",
    "                calculate_distance(new_vocab, to)\n",
    "                distance, path = distance_graph[(new_vocab, to)]\n",
    "                if min_distance == -1 or 0 <= distance < min_distance:\n",
    "                    min_distance = distance + 1\n",
    "                    min_path = [from_] + path\n",
    "        distance_graph[(from_, to)] = (min_distance, min_path)\n",
    "\n",
    "    for v1 in vocabs_pool:\n",
    "        for v2 in vocabs_pool:\n",
    "            calculate_distance(v1, v2)\n",
    "    return distance_graph\n",
    "\n",
    "\n",
    "# distance_graph = create_distance_graph()\n",
    "# print(distance_graph)"
   ]
  }
 ],
 "metadata": {
  "kernelspec": {
   "display_name": ".venv",
   "language": "python",
   "name": "python3"
  },
  "language_info": {
   "codemirror_mode": {
    "name": "ipython",
    "version": 3
   },
   "file_extension": ".py",
   "mimetype": "text/x-python",
   "name": "python",
   "nbconvert_exporter": "python",
   "pygments_lexer": "ipython3",
   "version": "3.10.11"
  }
 },
 "nbformat": 4,
 "nbformat_minor": 2
}
