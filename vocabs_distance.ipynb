{
 "cells": [
  {
   "cell_type": "code",
   "execution_count": 1,
   "metadata": {},
   "outputs": [],
   "source": [
    "import json"
   ]
  },
  {
   "cell_type": "code",
   "execution_count": 2,
   "metadata": {},
   "outputs": [
    {
     "name": "stdout",
     "output_type": "stream",
     "text": [
      "32 {'c', 'h', 'v', 'ó', 'w', 't', 'l', 's', 'q', 'e', 'u', 'f', 'm', 'j', 'z', 'k', 'y', 'á', 'a', 'o', 'r', 'd', 'g', 'b', 'n', 'é', 'ú', 'x', 'í', 'ñ', 'i', 'p'}\n"
     ]
    }
   ],
   "source": [
    "vocabs_pool = set()\n",
    "alphabets = set()\n",
    "\n",
    "with open(r\"vocabs\\es\\es-len5-easy.json\") as file:\n",
    "    json_data = json.load(file)\n",
    "    for d in json_data:\n",
    "        vocabs_pool.add(d)\n",
    "        alphabets = alphabets.union(set(d))\n",
    "\n",
    "num_vocabs = len(vocabs_pool)\n",
    "print(len(alphabets), alphabets)"
   ]
  },
  {
   "cell_type": "code",
   "execution_count": 3,
   "metadata": {},
   "outputs": [
    {
     "name": "stdout",
     "output_type": "stream",
     "text": [
      "{'íbc', 'amc', 'abk', 'ybc', 'dbc', 'pbc', 'lbc', 'abw', 'abg', 'ibc', 'abú', 'abz', 'obc', 'abs', 'auc', 'abf', 'agc', 'avc', 'óbc', 'axc', 'abm', 'bbc', 'abb', 'wbc', 'aba', 'abt', 'abv', 'abu', 'abá', 'abd', 'atc', 'kbc', 'fbc', 'tbc', 'sbc', 'aóc', 'gbc', 'abo', 'ubc', 'afc', 'awc', 'ayc', 'ahc', 'asc', 'aec', 'azc', 'abn', 'abe', 'rbc', 'akc', 'xbc', 'acc', 'abh', 'ébc', 'alc', 'abl', 'adc', 'ebc', 'aúc', 'cbc', 'ajc', 'anc', 'aac', 'abé', 'qbc', 'abq', 'aéc', 'vbc', 'aic', 'abí', 'abi', 'abr', 'aoc', 'abx', 'mbc', 'aqc', 'abó', 'abp', 'aác', 'hbc', 'aby', 'añc', 'aíc', 'nbc', 'apc', 'abj', 'arc', 'zbc', 'ábc', 'úbc', 'jbc', 'ñbc', 'abñ'}\n"
     ]
    }
   ],
   "source": [
    "def change_character(vocab: str) -> set[str]:\n",
    "    new_vocabs = set()\n",
    "    for i, c in enumerate(vocab):\n",
    "        for a in alphabets:\n",
    "            if a != c:\n",
    "                new_vocab = vocab[:i] + a + vocab[i + 1 :]\n",
    "                new_vocabs.add(new_vocab)\n",
    "\n",
    "    return new_vocabs\n",
    "\n",
    "\n",
    "print(change_character(\"abc\"))"
   ]
  },
  {
   "cell_type": "code",
   "execution_count": 4,
   "metadata": {},
   "outputs": [],
   "source": [
    "def distance(from_: str, to: str, max_distance=None) -> tuple[int, list[str]]:\n",
    "    vocab_path = {from_: \"\"}\n",
    "    queue = [(from_, 0)]\n",
    "    while queue:\n",
    "        (cur_vocab, cur_distance) = queue.pop(0)\n",
    "        if cur_vocab == to:\n",
    "            path = [cur_vocab]\n",
    "            while path[0] != from_:\n",
    "                path.insert(0, vocab_path[path[0]])\n",
    "            return (cur_distance, path)\n",
    "\n",
    "        if cur_distance == max_distance:\n",
    "            continue\n",
    "\n",
    "        for new_vocab in change_character(cur_vocab):\n",
    "            if (new_vocab not in vocab_path) and (new_vocab in vocabs_pool):\n",
    "                vocab_path[new_vocab] = cur_vocab\n",
    "                queue.append((new_vocab, cur_distance + 1))\n",
    "\n",
    "    return (-1, [])"
   ]
  },
  {
   "cell_type": "code",
   "execution_count": 5,
   "metadata": {},
   "outputs": [
    {
     "name": "stdout",
     "output_type": "stream",
     "text": [
      "(-1, [])\n"
     ]
    }
   ],
   "source": [
    "print(distance(\"admin\", \"admit\"))"
   ]
  },
  {
   "cell_type": "code",
   "execution_count": 6,
   "metadata": {},
   "outputs": [
    {
     "name": "stdout",
     "output_type": "stream",
     "text": [
      "checking \"maria\"| 0/1000\n",
      "checking \"entró\"| 100/1000\n",
      "checking \"cubre\"| 200/1000\n",
      "checking \"matar\"| 300/1000\n",
      "checking \"tampa\"| 400/1000\n",
      "checking \"puedo\"| 500/1000\n",
      "checking \"libra\"| 600/1000\n",
      "checking \"vivía\"| 700/1000\n",
      "checking \"goleó\"| 800/1000\n",
      "checking \"selva\"| 900/1000\n",
      "pair rate: 4786/999000 = 0.48%\n",
      "starter: 608/1000 = 60.80%\n",
      "participation: 608/1000 = 60.80%\n"
     ]
    }
   ],
   "source": [
    "max_distance = 5\n",
    "count = 0\n",
    "starter = set()\n",
    "involved = set()\n",
    "for i, v1 in enumerate(vocabs_pool):\n",
    "    for j, v2 in enumerate(vocabs_pool):\n",
    "        dist = distance(v1, v2, max_distance=max_distance)\n",
    "        if dist[0] > 0:\n",
    "            count += 1\n",
    "            starter.add(v1)\n",
    "            involved = involved.union(set(dist[1]))\n",
    "\n",
    "    if i % (num_vocabs // 10) == 0:\n",
    "        print(f'checking \"{v1}\"| {i}/{num_vocabs}')\n",
    "\n",
    "pair_rate = count / (num_vocabs * (num_vocabs - 1))\n",
    "print(f\"pair rate: {count}/{num_vocabs*(num_vocabs-1)} = {pair_rate:.2%}\")\n",
    "\n",
    "starter_rate = len(starter) / num_vocabs\n",
    "print(f\"starter: {len(involved)}/{num_vocabs} = {starter_rate:.2%}\")\n",
    "\n",
    "participation_rate = len(involved) / num_vocabs\n",
    "print(f\"participation: {len(involved)}/{num_vocabs} = {participation_rate:.2%}\")"
   ]
  },
  {
   "cell_type": "code",
   "execution_count": 7,
   "metadata": {},
   "outputs": [],
   "source": [
    "def create_distance_graph():\n",
    "    distance_graph: dict[tuple[str, str], tuple[int, list[str]]] = {}\n",
    "\n",
    "    def calculate_distance(from_: str, to: str):\n",
    "        if (from_, to) in distance_graph:\n",
    "            return\n",
    "\n",
    "        min_distance = -1\n",
    "        min_path = []\n",
    "        for new_vocab in change_character(from_):\n",
    "            if new_vocab in vocabs_pool:\n",
    "                calculate_distance(new_vocab, to)\n",
    "                distance, path = distance_graph[(new_vocab, to)]\n",
    "                if min_distance == -1 or 0 <= distance < min_distance:\n",
    "                    min_distance = distance + 1\n",
    "                    min_path = [from_] + path\n",
    "        distance_graph[(from_, to)] = (min_distance, min_path)\n",
    "\n",
    "    for v1 in vocabs_pool:\n",
    "        for v2 in vocabs_pool:\n",
    "            calculate_distance(v1, v2)\n",
    "    return distance_graph\n",
    "\n",
    "\n",
    "# distance_graph = create_distance_graph()\n",
    "# print(distance_graph)"
   ]
  }
 ],
 "metadata": {
  "kernelspec": {
   "display_name": ".venv",
   "language": "python",
   "name": "python3"
  },
  "language_info": {
   "codemirror_mode": {
    "name": "ipython",
    "version": 3
   },
   "file_extension": ".py",
   "mimetype": "text/x-python",
   "name": "python",
   "nbconvert_exporter": "python",
   "pygments_lexer": "ipython3",
   "version": "3.10.11"
  }
 },
 "nbformat": 4,
 "nbformat_minor": 2
}
