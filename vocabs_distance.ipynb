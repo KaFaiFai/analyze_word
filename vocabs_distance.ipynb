{
 "cells": [
  {
   "cell_type": "code",
   "execution_count": 11,
   "metadata": {},
   "outputs": [],
   "source": [
    "import json\n",
    "import random"
   ]
  },
  {
   "cell_type": "code",
   "execution_count": 2,
   "metadata": {},
   "outputs": [
    {
     "name": "stdout",
     "output_type": "stream",
     "text": [
      "74 ァアィイウェエオカガキギクグケゲコゴサザシジスズセゼソゾタダチッツヅテデトドナニネノハバパヒビフブプヘベホボポマミムメモャヤュユョヨラリルレロワンー\n",
      "len(vocabs_pool)=607\n",
      "len(exclusive_pool)=607\n"
     ]
    }
   ],
   "source": [
    "vocabs_pool: set[str] = set()\n",
    "exclusive_pool: set[str] = set()\n",
    "alphabets: set[str] = set()\n",
    "\n",
    "with open(r\"vocabs\\ja\\ja-len4-easy.json\") as file:\n",
    "    json_data = json.load(file)\n",
    "    for d in json_data:\n",
    "        vocabs_pool.add(d)\n",
    "        exclusive_pool.add(d)\n",
    "        alphabets = alphabets.union(set(d))\n",
    "\n",
    "# with open(r\"vocabs\\en\\en-len4-medium.json\") as file:\n",
    "#     json_data = json.load(file)\n",
    "#     for d in json_data:\n",
    "#         exclusive_pool.remove(d)\n",
    "\n",
    "num_vocabs = len(vocabs_pool)\n",
    "print(len(alphabets), \"\".join(sorted(alphabets)))\n",
    "print(f\"{len(vocabs_pool)=}\")\n",
    "print(f\"{len(exclusive_pool)=}\")"
   ]
  },
  {
   "cell_type": "code",
   "execution_count": 3,
   "metadata": {},
   "outputs": [
    {
     "name": "stdout",
     "output_type": "stream",
     "text": [
      "{'ネbc', 'ザbc', 'ワbc', 'abマ', 'ゼbc', 'ヘbc', 'aテc', 'abシ', 'ユbc', 'abネ', 'abポ', 'ゴbc', 'ッbc', 'abム', 'aボc', 'aハc', 'abナ', 'aジc', 'ラbc', 'aケc', 'aミc', 'abニ', 'abゴ', 'aビc', 'ュbc', 'aャc', 'aレc', 'abワ', 'abセ', 'abチ', 'abビ', 'ポbc', 'abオ', 'abヒ', 'aヨc', 'abョ', 'aコc', 'aンc', 'aュc', 'abィ', 'abリ', 'ゲbc', 'スbc', 'abレ', 'aポc', 'abソ', 'テbc', 'aクc', 'abテ', 'aヤc', 'abジ', 'ァbc', 'ェbc', 'aザc', 'abダ', 'abヅ', 'abサ', 'エbc', 'aフc', 'abド', 'abエ', 'aニc', 'abノ', 'aシc', 'ウbc', 'abゲ', 'abブ', 'ベbc', 'aツc', 'aヒc', 'abグ', 'aヘc', 'aプc', 'aルc', 'abタ', 'ゾbc', 'abク', 'aノc', 'ジbc', 'aギc', 'ヨbc', 'aモc', 'aタc', 'abヘ', 'abコ', 'abン', 'aムc', 'ーbc', 'abェ', 'abズ', 'リbc', 'abケ', 'ルbc', 'aナc', 'abャ', 'abミ', 'aスc', 'プbc', 'aダc', 'abロ', 'ミbc', 'aホc', 'ツbc', 'abュ', 'ロbc', 'aアc', 'ニbc', 'ノbc', 'シbc', 'aヅc', 'abト', 'aリc', 'aバc', 'バbc', 'コbc', 'abヨ', 'aユc', 'abボ', 'セbc', 'ムbc', 'メbc', 'ボbc', 'トbc', 'ブbc', 'aゲc', 'aチc', 'aソc', 'aゴc', 'abギ', 'abホ', 'abラ', 'ソbc', 'abー', 'abモ', 'abデ', 'abス', 'abガ', 'aッc', 'ズbc', 'ョbc', 'アbc', 'ャbc', 'abユ', 'aズc', 'aワc', 'aィc', 'aーc', 'ンbc', 'ホbc', 'ビbc', 'abッ', 'ケbc', 'イbc', 'abゾ', 'ヤbc', 'aラc', 'ヒbc', 'aデc', 'オbc', 'レbc', 'ナbc', 'マbc', 'aトc', 'abパ', 'aゾc', 'abツ', 'aマc', 'abル', 'abメ', 'aイc', 'aグc', 'ダbc', 'abヤ', 'abフ', 'abウ', 'abバ', 'クbc', 'ギbc', 'キbc', 'タbc', 'グbc', 'aァc', 'aオc', 'aドc', 'abハ', 'ヅbc', 'デbc', 'abア', 'ガbc', 'aウc', 'aゼc', 'ドbc', 'ハbc', 'aネc', 'abプ', 'aョc', 'サbc', 'aメc', 'aベc', 'aサc', 'abァ', 'モbc', 'aェc', 'abザ', 'aエc', 'abベ', 'aカc', 'パbc', 'aロc', 'aパc', 'aキc', 'aブc', 'abゼ', 'カbc', 'abキ', 'フbc', 'チbc', 'abカ', 'aセc', 'abイ', 'ィbc', 'aガc'}\n"
     ]
    }
   ],
   "source": [
    "def change_character(vocab: str) -> set[str]:\n",
    "    new_vocabs = set()\n",
    "    for i, c in enumerate(vocab):\n",
    "        for a in alphabets:\n",
    "            if a != c:\n",
    "                new_vocab = vocab[:i] + a + vocab[i + 1 :]\n",
    "                new_vocabs.add(new_vocab)\n",
    "\n",
    "    return new_vocabs\n",
    "\n",
    "\n",
    "print(change_character(\"abc\"))"
   ]
  },
  {
   "cell_type": "code",
   "execution_count": 4,
   "metadata": {},
   "outputs": [],
   "source": [
    "def character_difference(from_: str, to: str) -> int:\n",
    "    count = 0\n",
    "    for c1, c2 in zip(from_, to):\n",
    "        if c1 != c2:\n",
    "            count += 1\n",
    "    return count"
   ]
  },
  {
   "cell_type": "code",
   "execution_count": 5,
   "metadata": {},
   "outputs": [],
   "source": [
    "def distance(\n",
    "    from_: str, to: str, max_distance: int | None = None\n",
    ") -> tuple[int, list[str]]:\n",
    "    vocab_path = {from_: \"\"}\n",
    "    queue = [(from_, 0)]\n",
    "    while queue:\n",
    "        (cur_vocab, cur_distance) = queue.pop(0)\n",
    "        if cur_vocab == to:\n",
    "            path = [cur_vocab]\n",
    "            while path[0] != from_:\n",
    "                path.insert(0, vocab_path[path[0]])\n",
    "            return (cur_distance, path)\n",
    "\n",
    "        if cur_distance == max_distance:\n",
    "            continue\n",
    "\n",
    "        for new_vocab in change_character(cur_vocab):\n",
    "            if (new_vocab not in vocab_path) and (new_vocab in vocabs_pool):\n",
    "                vocab_path[new_vocab] = cur_vocab\n",
    "                queue.append((new_vocab, cur_distance + 1))\n",
    "\n",
    "    return (-1, [])"
   ]
  },
  {
   "cell_type": "code",
   "execution_count": 6,
   "metadata": {},
   "outputs": [
    {
     "name": "stdout",
     "output_type": "stream",
     "text": [
      "(-1, [])\n",
      "(-1, [])\n",
      "(-1, [])\n"
     ]
    }
   ],
   "source": [
    "print(distance(\"admin\", \"admit\"))\n",
    "print(distance(\"dicho\", \"hecha\"))\n",
    "print(distance(\"war\", \"him\"))"
   ]
  },
  {
   "cell_type": "code",
   "execution_count": 7,
   "metadata": {},
   "outputs": [
    {
     "name": "stdout",
     "output_type": "stream",
     "text": [
      "checking \"トクシュ\"| 0/607\n",
      "checking \"ゼッタイ\"| 60/607\n",
      "checking \"ブッシツ\"| 120/607\n",
      "checking \"イジスル\"| 180/607\n",
      "checking \"ノヨウニ\"| 240/607\n",
      "checking \"コウレイ\"| 300/607\n",
      "checking \"ジッセキ\"| 360/607\n",
      "checking \"ヒジョウ\"| 420/607\n",
      "checking \"コクサイ\"| 480/607\n",
      "checking \"トウコウ\"| 540/607\n",
      "checking \"リョコウ\"| 600/607\n",
      "pair rate: 2254/367842 = 0.61%\n",
      "exclusive pair rate: 2254/367842 = 0.61%\n",
      "starter: 224/607 = 36.90%\n",
      "participation: 243/607 = 40.03%\n"
     ]
    }
   ],
   "source": [
    "max_distance = 4\n",
    "strict = False\n",
    "count = 0\n",
    "count_exclusive = 0\n",
    "starter = set()\n",
    "involved = set()\n",
    "pairs: list[tuple[str, str]] = []\n",
    "\n",
    "for i, v1 in enumerate(vocabs_pool):\n",
    "    for j, v2 in enumerate(vocabs_pool):\n",
    "        dist = distance(v1, v2, max_distance=max_distance)\n",
    "        diff = character_difference(v1, v2)\n",
    "        if (strict and dist[0] > diff) or (not strict and dist[0] > 3):\n",
    "            count += 1\n",
    "            starter.add(v1)\n",
    "            involved = involved.union(set(dist[1]))\n",
    "            # print(dist)\n",
    "\n",
    "            if any(v in exclusive_pool for v in dist[1]):\n",
    "                count_exclusive += 1\n",
    "                pairs.append((v1, v2))\n",
    "\n",
    "    if i % (num_vocabs // 10) == 0:\n",
    "        print(f'checking \"{v1}\"| {i}/{num_vocabs}')\n",
    "\n",
    "total_combinations = num_vocabs * (num_vocabs - 1)\n",
    "\n",
    "pair_rate = count / total_combinations\n",
    "print(f\"pair rate: {count}/{total_combinations} = {pair_rate:.2%}\")\n",
    "\n",
    "exclusive_rate = count_exclusive / total_combinations\n",
    "print(\n",
    "    f\"exclusive pair rate: {count_exclusive}/{total_combinations} = {exclusive_rate:.2%}\"\n",
    ")\n",
    "\n",
    "starter_rate = len(starter) / num_vocabs\n",
    "print(f\"starter: {len(starter)}/{num_vocabs} = {starter_rate:.2%}\")\n",
    "\n",
    "participation_rate = len(involved) / num_vocabs\n",
    "print(f\"participation: {len(involved)}/{num_vocabs} = {participation_rate:.2%}\")"
   ]
  },
  {
   "cell_type": "code",
   "execution_count": 15,
   "metadata": {},
   "outputs": [
    {
     "name": "stdout",
     "output_type": "stream",
     "text": [
      "(4, ['サイダイ', 'サイセイ', 'カイセイ', 'カンセイ', 'カンセン'])\n",
      "(4, ['ユウコウ', 'コウコウ', 'コウゾウ', 'ソウゾウ', 'ソウトウ'])\n",
      "(4, ['メイカク', 'セイカク', 'セイサク', 'セイサン', 'セイシン'])\n",
      "(4, ['ジンザイ', 'ジンセイ', 'カンセイ', 'カイセイ', 'サイセイ'])\n",
      "(4, ['ホントウ', 'セントウ', 'センコウ', 'ジンコウ', 'ジッコウ'])\n"
     ]
    }
   ],
   "source": [
    "random.seed(0)\n",
    "pairs_shuffled = pairs[:]\n",
    "random.shuffle(pairs_shuffled)\n",
    "with open(rf\"vocabs\\ja\\ja-len4-pairs-easy.json\", \"w\") as f:\n",
    "    json.dump(pairs_shuffled, f)\n",
    "\n",
    "for i in range(5):\n",
    "    pair = pairs_shuffled[i]\n",
    "    dist = distance(pair[0], pair[1])\n",
    "    print(dist)"
   ]
  },
  {
   "cell_type": "code",
   "execution_count": 9,
   "metadata": {},
   "outputs": [],
   "source": [
    "def create_distance_graph():\n",
    "    distance_graph: dict[tuple[str, str], tuple[int, list[str]]] = {}\n",
    "\n",
    "    def calculate_distance(from_: str, to: str):\n",
    "        if (from_, to) in distance_graph:\n",
    "            return\n",
    "\n",
    "        min_distance = -1\n",
    "        min_path = []\n",
    "        for new_vocab in change_character(from_):\n",
    "            if new_vocab in vocabs_pool:\n",
    "                calculate_distance(new_vocab, to)\n",
    "                distance, path = distance_graph[(new_vocab, to)]\n",
    "                if min_distance == -1 or 0 <= distance < min_distance:\n",
    "                    min_distance = distance + 1\n",
    "                    min_path = [from_] + path\n",
    "        distance_graph[(from_, to)] = (min_distance, min_path)\n",
    "\n",
    "    for v1 in vocabs_pool:\n",
    "        for v2 in vocabs_pool:\n",
    "            calculate_distance(v1, v2)\n",
    "    return distance_graph\n",
    "\n",
    "\n",
    "# distance_graph = create_distance_graph()\n",
    "# print(distance_graph)"
   ]
  }
 ],
 "metadata": {
  "kernelspec": {
   "display_name": ".venv",
   "language": "python",
   "name": "python3"
  },
  "language_info": {
   "codemirror_mode": {
    "name": "ipython",
    "version": 3
   },
   "file_extension": ".py",
   "mimetype": "text/x-python",
   "name": "python",
   "nbconvert_exporter": "python",
   "pygments_lexer": "ipython3",
   "version": "3.10.11"
  }
 },
 "nbformat": 4,
 "nbformat_minor": 2
}
