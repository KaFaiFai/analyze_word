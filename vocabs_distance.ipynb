{
 "cells": [
  {
   "cell_type": "code",
   "execution_count": 1,
   "metadata": {},
   "outputs": [],
   "source": [
    "import json"
   ]
  },
  {
   "cell_type": "code",
   "execution_count": 2,
   "metadata": {},
   "outputs": [
    {
     "name": "stdout",
     "output_type": "stream",
     "text": [
      "26 {'k', 'x', 'i', 'e', 'b', 'f', 'a', 'c', 'r', 'q', 'p', 'y', 'm', 'v', 'z', 'l', 'w', 's', 't', 'j', 'n', 'g', 'u', 'd', 'o', 'h'}\n",
      "len(vocabs_pool)=1000\n",
      "len(exclusive_pool)=300\n"
     ]
    }
   ],
   "source": [
    "vocabs_pool: set[str] = set()\n",
    "exclusive_pool: set[str] = set()\n",
    "alphabets: set[str] = set()\n",
    "\n",
    "with open(r\"vocabs\\en\\en-len5-medium.json\") as file:\n",
    "    json_data = json.load(file)\n",
    "    for d in json_data:\n",
    "        vocabs_pool.add(d)\n",
    "        exclusive_pool.add(d)\n",
    "        alphabets = alphabets.union(set(d))\n",
    "\n",
    "with open(r\"vocabs\\en\\en-len5-easy.json\") as file:\n",
    "    json_data = json.load(file)\n",
    "    for d in json_data:\n",
    "        exclusive_pool.remove(d)\n",
    "\n",
    "num_vocabs = len(vocabs_pool)\n",
    "print(len(alphabets), alphabets)\n",
    "print(f\"{len(vocabs_pool)=}\")\n",
    "print(f\"{len(exclusive_pool)=}\")"
   ]
  },
  {
   "cell_type": "code",
   "execution_count": 3,
   "metadata": {},
   "outputs": [
    {
     "name": "stdout",
     "output_type": "stream",
     "text": [
      "{'rbc', 'abs', 'agc', 'abp', 'axc', 'ajc', 'qbc', 'abw', 'vbc', 'abf', 'abk', 'wbc', 'aqc', 'ayc', 'bbc', 'fbc', 'zbc', 'cbc', 'afc', 'abv', 'anc', 'amc', 'abl', 'aby', 'ibc', 'aic', 'mbc', 'ubc', 'abd', 'ebc', 'abi', 'awc', 'aoc', 'tbc', 'aec', 'abe', 'aac', 'auc', 'lbc', 'abu', 'acc', 'aba', 'abx', 'obc', 'atc', 'ahc', 'ybc', 'abm', 'sbc', 'abg', 'apc', 'abh', 'xbc', 'nbc', 'pbc', 'avc', 'asc', 'jbc', 'kbc', 'adc', 'dbc', 'abr', 'abn', 'abz', 'abo', 'azc', 'abt', 'akc', 'abb', 'hbc', 'abj', 'arc', 'alc', 'abq', 'gbc'}\n"
     ]
    }
   ],
   "source": [
    "def change_character(vocab: str) -> set[str]:\n",
    "    new_vocabs = set()\n",
    "    for i, c in enumerate(vocab):\n",
    "        for a in alphabets:\n",
    "            if a != c:\n",
    "                new_vocab = vocab[:i] + a + vocab[i + 1 :]\n",
    "                new_vocabs.add(new_vocab)\n",
    "\n",
    "    return new_vocabs\n",
    "\n",
    "\n",
    "print(change_character(\"abc\"))"
   ]
  },
  {
   "cell_type": "code",
   "execution_count": 4,
   "metadata": {},
   "outputs": [],
   "source": [
    "def character_difference(from_: str, to: str) -> int:\n",
    "    count = 0\n",
    "    for c1, c2 in zip(from_, to):\n",
    "        if c1 != c2:\n",
    "            count += 1\n",
    "    return count"
   ]
  },
  {
   "cell_type": "code",
   "execution_count": 5,
   "metadata": {},
   "outputs": [],
   "source": [
    "def distance(from_: str, to: str, max_distance=None) -> tuple[int, list[str]]:\n",
    "    vocab_path = {from_: \"\"}\n",
    "    queue = [(from_, 0)]\n",
    "    while queue:\n",
    "        (cur_vocab, cur_distance) = queue.pop(0)\n",
    "        if cur_vocab == to:\n",
    "            path = [cur_vocab]\n",
    "            while path[0] != from_:\n",
    "                path.insert(0, vocab_path[path[0]])\n",
    "            return (cur_distance, path)\n",
    "\n",
    "        if cur_distance == max_distance:\n",
    "            continue\n",
    "\n",
    "        for new_vocab in change_character(cur_vocab):\n",
    "            if (new_vocab not in vocab_path) and (new_vocab in vocabs_pool):\n",
    "                vocab_path[new_vocab] = cur_vocab\n",
    "                queue.append((new_vocab, cur_distance + 1))\n",
    "\n",
    "    return (-1, [])"
   ]
  },
  {
   "cell_type": "code",
   "execution_count": 6,
   "metadata": {},
   "outputs": [
    {
     "name": "stdout",
     "output_type": "stream",
     "text": [
      "(1, ['admin', 'admit'])\n"
     ]
    }
   ],
   "source": [
    "print(distance(\"admin\", \"admit\"))"
   ]
  },
  {
   "cell_type": "code",
   "execution_count": 7,
   "metadata": {},
   "outputs": [
    {
     "name": "stdout",
     "output_type": "stream",
     "text": [
      "checking \"fewer\"| 0/1000\n",
      "checking \"whole\"| 100/1000\n",
      "checking \"chips\"| 200/1000\n",
      "checking \"rated\"| 300/1000\n",
      "checking \"enjoy\"| 400/1000\n",
      "checking \"inner\"| 500/1000\n",
      "checking \"shops\"| 600/1000\n",
      "checking \"blues\"| 700/1000\n",
      "checking \"latex\"| 800/1000\n",
      "checking \"facts\"| 900/1000\n",
      "pair rate: 2048/999000 = 0.21%\n",
      "exclusive pair rate: 1929/999000 = 0.19%\n",
      "starter: 240/1000 = 24.00%\n",
      "participation: 270/1000 = 27.00%\n"
     ]
    }
   ],
   "source": [
    "max_distance = 5\n",
    "count = 0\n",
    "count_exclusive = 0\n",
    "starter = set()\n",
    "involved = set()\n",
    "pairs: list[tuple[str, str]] = []\n",
    "\n",
    "for i, v1 in enumerate(vocabs_pool):\n",
    "    for j, v2 in enumerate(vocabs_pool):\n",
    "        dist = distance(v1, v2, max_distance=max_distance)\n",
    "        diff = character_difference(v1, v2)\n",
    "        if dist[0] > diff:\n",
    "            count += 1\n",
    "            starter.add(v1)\n",
    "            involved = involved.union(set(dist[1]))\n",
    "            # print(dist)\n",
    "\n",
    "            if any(v in exclusive_pool for v in dist[1]):\n",
    "                count_exclusive += 1\n",
    "                pairs.append((v1, v2))\n",
    "\n",
    "    if i % (num_vocabs // 10) == 0:\n",
    "        print(f'checking \"{v1}\"| {i}/{num_vocabs}')\n",
    "\n",
    "total_combinations = num_vocabs * (num_vocabs - 1)\n",
    "\n",
    "pair_rate = count / total_combinations\n",
    "print(f\"pair rate: {count}/{total_combinations} = {pair_rate:.2%}\")\n",
    "\n",
    "exclusive_rate = count_exclusive / total_combinations\n",
    "print(\n",
    "    f\"exclusive pair rate: {count_exclusive}/{total_combinations} = {exclusive_rate:.2%}\"\n",
    ")\n",
    "\n",
    "starter_rate = len(starter) / num_vocabs\n",
    "print(f\"starter: {len(starter)}/{num_vocabs} = {starter_rate:.2%}\")\n",
    "\n",
    "participation_rate = len(involved) / num_vocabs\n",
    "print(f\"participation: {len(involved)}/{num_vocabs} = {participation_rate:.2%}\")"
   ]
  },
  {
   "cell_type": "code",
   "execution_count": 8,
   "metadata": {},
   "outputs": [],
   "source": [
    "with open(rf\"vocabs\\en\\en-len5-pairs-medium.json\", \"w\") as f:\n",
    "    json.dump(pairs, f)"
   ]
  },
  {
   "cell_type": "code",
   "execution_count": 9,
   "metadata": {},
   "outputs": [],
   "source": [
    "def create_distance_graph():\n",
    "    distance_graph: dict[tuple[str, str], tuple[int, list[str]]] = {}\n",
    "\n",
    "    def calculate_distance(from_: str, to: str):\n",
    "        if (from_, to) in distance_graph:\n",
    "            return\n",
    "\n",
    "        min_distance = -1\n",
    "        min_path = []\n",
    "        for new_vocab in change_character(from_):\n",
    "            if new_vocab in vocabs_pool:\n",
    "                calculate_distance(new_vocab, to)\n",
    "                distance, path = distance_graph[(new_vocab, to)]\n",
    "                if min_distance == -1 or 0 <= distance < min_distance:\n",
    "                    min_distance = distance + 1\n",
    "                    min_path = [from_] + path\n",
    "        distance_graph[(from_, to)] = (min_distance, min_path)\n",
    "\n",
    "    for v1 in vocabs_pool:\n",
    "        for v2 in vocabs_pool:\n",
    "            calculate_distance(v1, v2)\n",
    "    return distance_graph\n",
    "\n",
    "\n",
    "# distance_graph = create_distance_graph()\n",
    "# print(distance_graph)"
   ]
  }
 ],
 "metadata": {
  "kernelspec": {
   "display_name": ".venv",
   "language": "python",
   "name": "python3"
  },
  "language_info": {
   "codemirror_mode": {
    "name": "ipython",
    "version": 3
   },
   "file_extension": ".py",
   "mimetype": "text/x-python",
   "name": "python",
   "nbconvert_exporter": "python",
   "pygments_lexer": "ipython3",
   "version": "3.10.11"
  }
 },
 "nbformat": 4,
 "nbformat_minor": 2
}
