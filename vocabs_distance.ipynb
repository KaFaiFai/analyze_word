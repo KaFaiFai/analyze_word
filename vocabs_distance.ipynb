{
 "cells": [
  {
   "cell_type": "code",
   "execution_count": 1,
   "metadata": {},
   "outputs": [],
   "source": [
    "import json\n",
    "import random\n",
    "import common"
   ]
  },
  {
   "cell_type": "code",
   "execution_count": 2,
   "metadata": {},
   "outputs": [
    {
     "name": "stdout",
     "output_type": "stream",
     "text": [
      "26 abcdefghijklmnopqrstuvwxyz\n",
      "len(vocabs_pool)=1484\n",
      "len(exclusive_pool)=1484\n"
     ]
    }
   ],
   "source": [
    "lang = \"en\"\n",
    "diff = \"easy\"\n",
    "excl = None\n",
    "\n",
    "vocabs_pool: set[str] = set()  # for faster in operation\n",
    "vocabs_pool_list: list[str] = []  # for consistent results\n",
    "exclusive_pool: set[str] = set()\n",
    "alphabets: list[str] = []\n",
    "\n",
    "with open(rf\"vocabs\\{lang}\\{lang}-{diff}.json\") as file:\n",
    "    json_data = json.load(file)\n",
    "    for d in json_data:\n",
    "        vocabs_pool.add(d)\n",
    "        vocabs_pool_list.append(d)\n",
    "        exclusive_pool.add(d)\n",
    "        alphabets = list(set(alphabets).union(set(d)))\n",
    "\n",
    "if excl is not None:\n",
    "    with open(rf\"vocabs\\{lang}\\{lang}-{excl}.json\") as file:\n",
    "        json_data = json.load(file)\n",
    "        for d in json_data:\n",
    "            exclusive_pool.remove(d)\n",
    "\n",
    "vocabs_pool_list.sort()\n",
    "alphabets.sort()\n",
    "num_vocabs = len(vocabs_pool)\n",
    "print(len(alphabets), \"\".join(alphabets))\n",
    "print(f\"{len(vocabs_pool)=}\")\n",
    "print(f\"{len(exclusive_pool)=}\")"
   ]
  },
  {
   "cell_type": "code",
   "execution_count": 3,
   "metadata": {},
   "outputs": [
    {
     "name": "stdout",
     "output_type": "stream",
     "text": [
      "['bbc', 'cbc', 'dbc', 'ebc', 'fbc', 'gbc', 'hbc', 'ibc', 'jbc', 'kbc', 'lbc', 'mbc', 'nbc', 'obc', 'pbc', 'qbc', 'rbc', 'sbc', 'tbc', 'ubc', 'vbc', 'wbc', 'xbc', 'ybc', 'zbc', 'aac', 'acc', 'adc', 'aec', 'afc', 'agc', 'ahc', 'aic', 'ajc', 'akc', 'alc', 'amc', 'anc', 'aoc', 'apc', 'aqc', 'arc', 'asc', 'atc', 'auc', 'avc', 'awc', 'axc', 'ayc', 'azc', 'aba', 'abb', 'abd', 'abe', 'abf', 'abg', 'abh', 'abi', 'abj', 'abk', 'abl', 'abm', 'abn', 'abo', 'abp', 'abq', 'abr', 'abs', 'abt', 'abu', 'abv', 'abw', 'abx', 'aby', 'abz']\n"
     ]
    }
   ],
   "source": [
    "print(common.change_character(\"abc\", alphabets))"
   ]
  },
  {
   "cell_type": "code",
   "execution_count": 4,
   "metadata": {},
   "outputs": [
    {
     "name": "stdout",
     "output_type": "stream",
     "text": [
      "(1, ['admin', 'admit'])\n",
      "(3, ['line', 'fine', 'fire', 'firm'])\n",
      "(-1, [])\n",
      "(-1, [])\n"
     ]
    }
   ],
   "source": [
    "print(common.distance(\"admin\", \"admit\", vocabs_pool, alphabets))\n",
    "print(common.distance(\"line\", \"firm\", vocabs_pool, alphabets))\n",
    "print(common.distance(\"センセイ\", \"モンダイ\", vocabs_pool, alphabets))\n",
    "print(common.distance(\"caro\", \"mano\", vocabs_pool, alphabets))"
   ]
  },
  {
   "cell_type": "code",
   "execution_count": 5,
   "metadata": {},
   "outputs": [
    {
     "name": "stdout",
     "output_type": "stream",
     "text": [
      "checking \"book\"| 148/1484\n"
     ]
    }
   ],
   "source": [
    "# easy: {\"min_distance\": 3, \"max_distance\": 4, \"strict\": False}\n",
    "from collections import defaultdict\n",
    "\n",
    "min_distance = 3\n",
    "max_distance = 4\n",
    "strict = False\n",
    "\n",
    "starter = set()\n",
    "involved = set()\n",
    "counts = defaultdict(lambda: [0, 0, 0])  # vocab, pair, exclusive\n",
    "\n",
    "pairs: list[tuple[str, str]] = []\n",
    "\n",
    "for i, v1 in enumerate(vocabs_pool_list):\n",
    "    for j, v2 in enumerate(vocabs_pool_list):\n",
    "        dist = common.distance(\n",
    "            v1, v2, vocabs_pool, alphabets, max_distance=max_distance\n",
    "        )\n",
    "        if strict:\n",
    "            difference = common.character_difference(v1, v2)\n",
    "            flag = dist[0] > difference and dist[0] >= min_distance\n",
    "        else:\n",
    "            flag = dist[0] >= min_distance\n",
    "\n",
    "        if flag:\n",
    "            counts[len(v1)][1] += 1\n",
    "            starter.add(v1)\n",
    "            involved = involved.union(set(dist[1]))\n",
    "            # print(dist)\n",
    "\n",
    "            if any(v in exclusive_pool for v in dist[1]):\n",
    "                counts[len(v1)][2] += 1\n",
    "                pairs.append((v1, v2))\n",
    "\n",
    "    counts[len(v1)][0] += 1\n",
    "    if (i + 1) % (num_vocabs // 10) == 0:\n",
    "        print(f'checking \"{v1}\"| {i+1}/{num_vocabs}')\n",
    "        break"
   ]
  },
  {
   "cell_type": "code",
   "execution_count": 6,
   "metadata": {},
   "outputs": [
    {
     "name": "stdout",
     "output_type": "stream",
     "text": [
      "----- pair rate & exclusive rate -----\n",
      "len 5, #108  :     137/11556 = 1.19%   |     137/11556 = 1.19%  \n",
      "len 4, #40   :     1258/1560 = 80.64%  |     1258/1560 = 80.64% \n",
      "total, #148  :    1395/13116 = 10.64%  |    1395/13116 = 10.64% \n",
      "---------------\n",
      "starter: 43/1484 = 2.90%\n",
      "participation: 426/1484 = 28.71%\n"
     ]
    }
   ],
   "source": [
    "total_vocab = 0\n",
    "total_combinations = 0\n",
    "total_pairs = 0\n",
    "total_exclusive = 0\n",
    "\n",
    "print_table = []\n",
    "for k, v in counts.items():\n",
    "    count_vocab = v[0]\n",
    "    vocab_combinations = count_vocab * (count_vocab - 1)\n",
    "    count_pair = v[1]\n",
    "    count_exlusive = v[2]\n",
    "\n",
    "    cur_pair_rate = count_pair / vocab_combinations\n",
    "    cur_exclusive_rate = count_exlusive / vocab_combinations\n",
    "    to_print = [\n",
    "        f\"len {k}\",\n",
    "        f\"{count_vocab}\",\n",
    "        f\"{count_pair}/{vocab_combinations}\",\n",
    "        f\"{cur_pair_rate:.2%}\",\n",
    "        f\"{count_exlusive}/{vocab_combinations}\",\n",
    "        f\"{cur_exclusive_rate:.2%}\",\n",
    "    ]\n",
    "    print_table.append(to_print)\n",
    "\n",
    "    total_vocab += count_vocab\n",
    "    total_combinations += vocab_combinations\n",
    "    total_pairs += count_pair\n",
    "    total_exclusive += count_exlusive\n",
    "\n",
    "pair_rate = total_pairs / total_combinations\n",
    "exclusive_rate = total_exclusive / total_combinations\n",
    "to_print = [\n",
    "    f\"total\",\n",
    "    f\"{total_vocab}\",\n",
    "    f\"{total_pairs}/{total_combinations}\",\n",
    "    f\"{pair_rate:.2%}\",\n",
    "    f\"{total_exclusive}/{total_combinations}\",\n",
    "    f\"{exclusive_rate:.2%}\",\n",
    "]\n",
    "print_table.append(to_print)\n",
    "\n",
    "print(f\"----- pair rate & exclusive rate -----\")\n",
    "for items in print_table:\n",
    "    print(\n",
    "        f\"{items[0]:<5}, #{items[1]:5}:\"\n",
    "        f\" {items[2]:>13} = {items[3]:<7} |\"\n",
    "        f\" {items[4]:>13} = {items[5]:<7}\"\n",
    "    )\n",
    "print(\"-\" * 15)\n",
    "\n",
    "starter_rate = len(starter) / num_vocabs\n",
    "print(f\"starter: {len(starter)}/{num_vocabs} = {starter_rate:.2%}\")\n",
    "\n",
    "participation_rate = len(involved) / num_vocabs\n",
    "print(f\"participation: {len(involved)}/{num_vocabs} = {participation_rate:.2%}\")"
   ]
  },
  {
   "cell_type": "code",
   "execution_count": 7,
   "metadata": {},
   "outputs": [
    {
     "name": "stdout",
     "output_type": "stream",
     "text": [
      "(3, ['blade', 'blame', 'flame', 'flare'])\n",
      "(3, ['bond', 'bend', 'bent', 'rent'])\n",
      "(3, ['beat', 'bent', 'bend', 'band'])\n",
      "(4, ['bear', 'dear', 'dead', 'lead', 'leaf'])\n",
      "(3, ['bind', 'bend', 'bent', 'beat'])\n"
     ]
    }
   ],
   "source": [
    "# use _quick to output json\n",
    "\n",
    "random.seed(0)\n",
    "pairs_shuffled = pairs[:3000]\n",
    "random.shuffle(pairs_shuffled)\n",
    "# with open(rf\"vocabs\\{lang}\\{lang}-pairs-{diff}.json\", \"w\") as f:\n",
    "#     json.dump(pairs_shuffled, f)\n",
    "\n",
    "for i in range(5):\n",
    "    pair = pairs_shuffled[i]\n",
    "    dist = common.distance(pair[0], pair[1], vocabs_pool, alphabets)\n",
    "    print(dist)"
   ]
  },
  {
   "cell_type": "code",
   "execution_count": 8,
   "metadata": {},
   "outputs": [],
   "source": [
    "def create_distance_graph():\n",
    "    distance_graph: dict[tuple[str, str], tuple[int, list[str]]] = {}\n",
    "\n",
    "    def calculate_distance(from_: str, to: str):\n",
    "        if (from_, to) in distance_graph:\n",
    "            return\n",
    "\n",
    "        min_distance = -1\n",
    "        min_path = []\n",
    "        for new_vocab in common.change_character(from_, alphabets):\n",
    "            if new_vocab in vocabs_pool:\n",
    "                calculate_distance(new_vocab, to)\n",
    "                distance, path = distance_graph[(new_vocab, to)]\n",
    "                if min_distance == -1 or 0 <= distance < min_distance:\n",
    "                    min_distance = distance + 1\n",
    "                    min_path = [from_] + path\n",
    "        distance_graph[(from_, to)] = (min_distance, min_path)\n",
    "\n",
    "    for v1 in vocabs_pool:\n",
    "        for v2 in vocabs_pool:\n",
    "            calculate_distance(v1, v2)\n",
    "    return distance_graph\n",
    "\n",
    "\n",
    "# distance_graph = create_distance_graph()\n",
    "# print(distance_graph)"
   ]
  }
 ],
 "metadata": {
  "kernelspec": {
   "display_name": ".venv",
   "language": "python",
   "name": "python3"
  },
  "language_info": {
   "codemirror_mode": {
    "name": "ipython",
    "version": 3
   },
   "file_extension": ".py",
   "mimetype": "text/x-python",
   "name": "python",
   "nbconvert_exporter": "python",
   "pygments_lexer": "ipython3",
   "version": "3.10.11"
  }
 },
 "nbformat": 4,
 "nbformat_minor": 2
}
