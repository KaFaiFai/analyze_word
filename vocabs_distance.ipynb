{
 "cells": [
  {
   "cell_type": "code",
   "execution_count": 1,
   "metadata": {},
   "outputs": [],
   "source": [
    "import json\n",
    "import random"
   ]
  },
  {
   "cell_type": "code",
   "execution_count": 2,
   "metadata": {},
   "outputs": [
    {
     "name": "stdout",
     "output_type": "stream",
     "text": [
      "26 abcdefghijklmnopqrstuvwxyz\n",
      "len(vocabs_pool)=2439\n",
      "len(exclusive_pool)=879\n"
     ]
    }
   ],
   "source": [
    "lang = \"en\"\n",
    "diff = \"medium\"\n",
    "excl = \"easy\"\n",
    "\n",
    "vocabs_pool: set[str] = set()\n",
    "exclusive_pool: set[str] = set()\n",
    "alphabets: set[str] = set()\n",
    "\n",
    "with open(rf\"vocabs\\{lang}\\{lang}-{diff}.json\") as file:\n",
    "    json_data = json.load(file)\n",
    "    for d in json_data:\n",
    "        vocabs_pool.add(d)\n",
    "        exclusive_pool.add(d)\n",
    "        alphabets = alphabets.union(set(d))\n",
    "\n",
    "if excl is not None:\n",
    "    with open(rf\"vocabs\\{lang}\\{lang}-{excl}.json\") as file:\n",
    "        json_data = json.load(file)\n",
    "        for d in json_data:\n",
    "            exclusive_pool.remove(d)\n",
    "\n",
    "num_vocabs = len(vocabs_pool)\n",
    "print(len(alphabets), \"\".join(sorted(alphabets)))\n",
    "print(f\"{len(vocabs_pool)=}\")\n",
    "print(f\"{len(exclusive_pool)=}\")"
   ]
  },
  {
   "cell_type": "code",
   "execution_count": 3,
   "metadata": {},
   "outputs": [
    {
     "name": "stdout",
     "output_type": "stream",
     "text": [
      "{'jbc', 'aqc', 'amc', 'arc', 'abp', 'abf', 'aoc', 'ebc', 'kbc', 'abu', 'ibc', 'abi', 'bbc', 'atc', 'rbc', 'abt', 'alc', 'vbc', 'aac', 'abw', 'abn', 'xbc', 'abh', 'obc', 'lbc', 'awc', 'akc', 'abz', 'abd', 'sbc', 'wbc', 'abq', 'abe', 'azc', 'ahc', 'hbc', 'axc', 'adc', 'ajc', 'abm', 'tbc', 'dbc', 'cbc', 'agc', 'qbc', 'aic', 'abv', 'abb', 'abr', 'aba', 'abs', 'asc', 'pbc', 'ubc', 'abx', 'abl', 'apc', 'fbc', 'ayc', 'abk', 'abg', 'aby', 'zbc', 'auc', 'anc', 'aec', 'abo', 'afc', 'avc', 'acc', 'nbc', 'ybc', 'gbc', 'mbc', 'abj'}\n"
     ]
    }
   ],
   "source": [
    "def change_character(vocab: str) -> set[str]:\n",
    "    new_vocabs = set()\n",
    "    for i, c in enumerate(vocab):\n",
    "        for a in alphabets:\n",
    "            if a != c:\n",
    "                new_vocab = vocab[:i] + a + vocab[i + 1 :]\n",
    "                new_vocabs.add(new_vocab)\n",
    "\n",
    "    return new_vocabs\n",
    "\n",
    "\n",
    "print(change_character(\"abc\"))"
   ]
  },
  {
   "cell_type": "code",
   "execution_count": 4,
   "metadata": {},
   "outputs": [],
   "source": [
    "def character_difference(from_: str, to: str) -> int:\n",
    "    count = 0\n",
    "    for c1, c2 in zip(from_, to):\n",
    "        if c1 != c2:\n",
    "            count += 1\n",
    "    return count"
   ]
  },
  {
   "cell_type": "code",
   "execution_count": 5,
   "metadata": {},
   "outputs": [],
   "source": [
    "def distance(\n",
    "    from_: str, to: str, max_distance: int | None = None\n",
    ") -> tuple[int, list[str]]:\n",
    "    if len(from_) != len(to):\n",
    "        return (-1, [])\n",
    "\n",
    "    vocab_path = {from_: \"\"}\n",
    "    queue = [(from_, 0)]\n",
    "    while queue:\n",
    "        (cur_vocab, cur_distance) = queue.pop(0)\n",
    "        if cur_vocab == to:\n",
    "            path = [cur_vocab]\n",
    "            while path[0] != from_:\n",
    "                path.insert(0, vocab_path[path[0]])\n",
    "            return (cur_distance, path)\n",
    "\n",
    "        if cur_distance == max_distance:\n",
    "            continue\n",
    "\n",
    "        for new_vocab in change_character(cur_vocab):\n",
    "            if (new_vocab not in vocab_path) and (new_vocab in vocabs_pool):\n",
    "                vocab_path[new_vocab] = cur_vocab\n",
    "                queue.append((new_vocab, cur_distance + 1))\n",
    "\n",
    "    return (-1, [])"
   ]
  },
  {
   "cell_type": "code",
   "execution_count": 6,
   "metadata": {},
   "outputs": [
    {
     "name": "stdout",
     "output_type": "stream",
     "text": [
      "(1, ['admin', 'admit'])\n",
      "(3, ['line', 'fine', 'fire', 'firm'])\n",
      "(-1, [])\n",
      "(-1, [])\n",
      "(-1, [])\n"
     ]
    }
   ],
   "source": [
    "print(distance(\"admin\", \"admit\"))\n",
    "print(distance(\"line\", \"firm\"))\n",
    "print(distance(\"センセイ\", \"モンダイ\"))\n",
    "print(distance(\"caro\", \"mano\"))"
   ]
  },
  {
   "cell_type": "code",
   "execution_count": 7,
   "metadata": {},
   "outputs": [
    {
     "name": "stdout",
     "output_type": "stream",
     "text": [
      "checking \"users\"| 243/2439\n",
      "checking \"rock\"| 486/2439\n",
      "checking \"drain\"| 729/2439\n",
      "checking \"boxes\"| 972/2439\n",
      "checking \"oven\"| 1215/2439\n",
      "checking \"ranks\"| 1458/2439\n",
      "checking \"setup\"| 1701/2439\n",
      "checking \"tail\"| 1944/2439\n",
      "checking \"crude\"| 2187/2439\n",
      "checking \"child\"| 2430/2439\n"
     ]
    }
   ],
   "source": [
    "# easy: {\"min_distance\": 3, \"max_distance\": 4, \"strict\": False}\n",
    "from collections import defaultdict\n",
    "\n",
    "min_distance = 3\n",
    "max_distance = 4\n",
    "strict = False\n",
    "\n",
    "starter = set()\n",
    "involved = set()\n",
    "counts = defaultdict(lambda: [0, 0, 0])  # vocab, pair, exclusive\n",
    "\n",
    "pairs: list[tuple[str, str]] = []\n",
    "\n",
    "for i, v1 in enumerate(vocabs_pool):\n",
    "    for j, v2 in enumerate(vocabs_pool):\n",
    "        dist = distance(v1, v2, max_distance=max_distance)\n",
    "        if strict:\n",
    "            difference = character_difference(v1, v2)\n",
    "            flag = dist[0] > difference and dist[0] >= min_distance\n",
    "        else:\n",
    "            flag = dist[0] >= min_distance\n",
    "\n",
    "        if flag:\n",
    "            counts[len(v1)][1] += 1\n",
    "            starter.add(v1)\n",
    "            involved = involved.union(set(dist[1]))\n",
    "            # print(dist)\n",
    "\n",
    "            if any(v in exclusive_pool for v in dist[1]):\n",
    "                counts[len(v1)][2] += 1\n",
    "                pairs.append((v1, v2))\n",
    "\n",
    "    counts[len(v1)][0] += 1\n",
    "    if (i + 1) % (num_vocabs // 10) == 0:\n",
    "        print(f'checking \"{v1}\"| {i+1}/{num_vocabs}')"
   ]
  },
  {
   "cell_type": "code",
   "execution_count": 8,
   "metadata": {},
   "outputs": [
    {
     "name": "stdout",
     "output_type": "stream",
     "text": [
      "----- pair rate & exclusive rate -----\n",
      "len 5, #1652 : 12790/2727452 = 0.47%   |  9723/2727452 = 0.36%  \n",
      "len 4, #787  :  42274/618582 = 6.83%   |  39235/618582 = 6.34%  \n",
      "total, #2439 : 55064/3346034 = 1.65%   | 48958/3346034 = 7.91%  \n",
      "---------------\n",
      "starter: 1306/2439 = 53.55%\n",
      "participation: 1350/2439 = 55.35%\n"
     ]
    }
   ],
   "source": [
    "total_vocab = 0\n",
    "total_combinations = 0\n",
    "total_pairs = 0\n",
    "total_exclusive = 0\n",
    "\n",
    "print_table = []\n",
    "for k, v in counts.items():\n",
    "    count_vocab = v[0]\n",
    "    vocab_combinations = count_vocab * (count_vocab - 1)\n",
    "    count_pair = v[1]\n",
    "    count_exlusive = v[2]\n",
    "\n",
    "    cur_pair_rate = count_pair / vocab_combinations\n",
    "    cur_exclusive_rate = count_exlusive / vocab_combinations\n",
    "    to_print = [\n",
    "        f\"len {k}\",\n",
    "        f\"{count_vocab}\",\n",
    "        f\"{count_pair}/{vocab_combinations}\",\n",
    "        f\"{cur_pair_rate:.2%}\",\n",
    "        f\"{count_exlusive}/{vocab_combinations}\",\n",
    "        f\"{cur_exclusive_rate:.2%}\",\n",
    "    ]\n",
    "    print_table.append(to_print)\n",
    "\n",
    "    total_vocab += count_vocab\n",
    "    total_combinations += vocab_combinations\n",
    "    total_pairs += count_pair\n",
    "    total_exclusive += count_exlusive\n",
    "\n",
    "pair_rate = total_pairs / total_combinations\n",
    "exclusive_rate = total_exclusive / vocab_combinations\n",
    "to_print = [\n",
    "    f\"total\",\n",
    "    f\"{total_vocab}\",\n",
    "    f\"{total_pairs}/{total_combinations}\",\n",
    "    f\"{pair_rate:.2%}\",\n",
    "    f\"{total_exclusive}/{total_combinations}\",\n",
    "    f\"{exclusive_rate:.2%}\",\n",
    "]\n",
    "print_table.append(to_print)\n",
    "\n",
    "print(f\"----- pair rate & exclusive rate -----\")\n",
    "for items in print_table:\n",
    "    print(\n",
    "        f\"{items[0]:<5}, #{items[1]:5}:\"\n",
    "        f\" {items[2]:>13} = {items[3]:<7} |\"\n",
    "        f\" {items[4]:>13} = {items[5]:<7}\"\n",
    "    )\n",
    "print(\"-\" * 15)\n",
    "\n",
    "starter_rate = len(starter) / num_vocabs\n",
    "print(f\"starter: {len(starter)}/{num_vocabs} = {starter_rate:.2%}\")\n",
    "\n",
    "participation_rate = len(involved) / num_vocabs\n",
    "print(f\"participation: {len(involved)}/{num_vocabs} = {participation_rate:.2%}\")"
   ]
  },
  {
   "cell_type": "code",
   "execution_count": 11,
   "metadata": {},
   "outputs": [
    {
     "name": "stdout",
     "output_type": "stream",
     "text": [
      "(3, ['carey', 'cares', 'cases', 'bases'])\n",
      "(3, ['book', 'boot', 'root', 'room'])\n",
      "(3, ['tired', 'tires', 'tiles', 'miles'])\n",
      "(4, ['dual', 'deal', 'dell', 'fell', 'feel'])\n",
      "(4, ['pool', 'poll', 'pill', 'will', 'wall'])\n"
     ]
    }
   ],
   "source": [
    "random.seed(0)\n",
    "pairs_shuffled = pairs[:10000]\n",
    "random.shuffle(pairs_shuffled)\n",
    "with open(rf\"vocabs\\{lang}\\{lang}-pairs-{diff}.json\", \"w\") as f:\n",
    "    json.dump(pairs_shuffled, f)\n",
    "\n",
    "for i in range(5):\n",
    "    pair = pairs_shuffled[i]\n",
    "    dist = distance(pair[0], pair[1])\n",
    "    print(dist)"
   ]
  },
  {
   "cell_type": "code",
   "execution_count": 10,
   "metadata": {},
   "outputs": [],
   "source": [
    "def create_distance_graph():\n",
    "    distance_graph: dict[tuple[str, str], tuple[int, list[str]]] = {}\n",
    "\n",
    "    def calculate_distance(from_: str, to: str):\n",
    "        if (from_, to) in distance_graph:\n",
    "            return\n",
    "\n",
    "        min_distance = -1\n",
    "        min_path = []\n",
    "        for new_vocab in change_character(from_):\n",
    "            if new_vocab in vocabs_pool:\n",
    "                calculate_distance(new_vocab, to)\n",
    "                distance, path = distance_graph[(new_vocab, to)]\n",
    "                if min_distance == -1 or 0 <= distance < min_distance:\n",
    "                    min_distance = distance + 1\n",
    "                    min_path = [from_] + path\n",
    "        distance_graph[(from_, to)] = (min_distance, min_path)\n",
    "\n",
    "    for v1 in vocabs_pool:\n",
    "        for v2 in vocabs_pool:\n",
    "            calculate_distance(v1, v2)\n",
    "    return distance_graph\n",
    "\n",
    "\n",
    "# distance_graph = create_distance_graph()\n",
    "# print(distance_graph)"
   ]
  }
 ],
 "metadata": {
  "kernelspec": {
   "display_name": ".venv",
   "language": "python",
   "name": "python3"
  },
  "language_info": {
   "codemirror_mode": {
    "name": "ipython",
    "version": 3
   },
   "file_extension": ".py",
   "mimetype": "text/x-python",
   "name": "python",
   "nbconvert_exporter": "python",
   "pygments_lexer": "ipython3",
   "version": "3.10.11"
  }
 },
 "nbformat": 4,
 "nbformat_minor": 2
}
