{
 "cells": [
  {
   "cell_type": "code",
   "execution_count": 1,
   "metadata": {},
   "outputs": [],
   "source": [
    "import json\n",
    "import string"
   ]
  },
  {
   "cell_type": "code",
   "execution_count": 2,
   "metadata": {},
   "outputs": [],
   "source": [
    "vocabs_pool = set()\n",
    "with open(r\"vocabs\\en-len5-easy.json\") as file:\n",
    "    json_data = json.load(file)\n",
    "    for d in json_data:\n",
    "        vocabs_pool.add(d)\n",
    "\n",
    "num_vocabs = len(vocabs_pool)\n",
    "alphabets = string.ascii_lowercase"
   ]
  },
  {
   "cell_type": "code",
   "execution_count": 3,
   "metadata": {},
   "outputs": [
    {
     "name": "stdout",
     "output_type": "stream",
     "text": [
      "{'avc', 'alc', 'abq', 'azc', 'adc', 'auc', 'abj', 'abt', 'awc', 'aec', 'abl', 'tbc', 'sbc', 'abi', 'aby', 'asc', 'agc', 'abn', 'kbc', 'axc', 'abo', 'ebc', 'abx', 'wbc', 'aqc', 'akc', 'arc', 'dbc', 'qbc', 'amc', 'anc', 'abf', 'pbc', 'abh', 'aba', 'abs', 'abz', 'gbc', 'abr', 'jbc', 'abu', 'obc', 'ajc', 'apc', 'abk', 'ybc', 'xbc', 'zbc', 'ayc', 'abb', 'abd', 'rbc', 'abp', 'aac', 'abv', 'hbc', 'ubc', 'abw', 'ahc', 'bbc', 'nbc', 'aic', 'acc', 'fbc', 'cbc', 'afc', 'aoc', 'abg', 'mbc', 'abe', 'vbc', 'atc', 'abm', 'lbc', 'ibc'}\n"
     ]
    }
   ],
   "source": [
    "def change_character(vocab: str) -> set[str]:\n",
    "    new_vocabs = set()\n",
    "    for i, c in enumerate(vocab):\n",
    "        for a in alphabets:\n",
    "            if a != c:\n",
    "                new_vocab = vocab[:i] + a + vocab[i + 1 :]\n",
    "                new_vocabs.add(new_vocab)\n",
    "\n",
    "    return new_vocabs\n",
    "\n",
    "\n",
    "print(change_character(\"abc\"))"
   ]
  },
  {
   "cell_type": "code",
   "execution_count": 4,
   "metadata": {},
   "outputs": [],
   "source": [
    "def distance(from_: str, to: str, max_distance=None) -> tuple[int, list[str]]:\n",
    "    vocab_path = {from_: \"\"}\n",
    "    queue = [(from_, 0)]\n",
    "    while queue:\n",
    "        (cur_vocab, cur_distance) = queue.pop(0)\n",
    "        if cur_vocab == to:\n",
    "            path = [cur_vocab]\n",
    "            while path[0] != from_:\n",
    "                path.insert(0, vocab_path[path[0]])\n",
    "            return (cur_distance, path)\n",
    "\n",
    "        if cur_distance == max_distance:\n",
    "            continue\n",
    "\n",
    "        for new_vocab in change_character(cur_vocab):\n",
    "            if (new_vocab not in vocab_path) and (new_vocab in vocabs_pool):\n",
    "                vocab_path[new_vocab] = cur_vocab\n",
    "                queue.append((new_vocab, cur_distance + 1))\n",
    "\n",
    "    return (-1, [])"
   ]
  },
  {
   "cell_type": "code",
   "execution_count": 17,
   "metadata": {},
   "outputs": [
    {
     "name": "stdout",
     "output_type": "stream",
     "text": [
      "(1, ['admin', 'admit'])\n"
     ]
    }
   ],
   "source": [
    "print(distance(\"admin\", \"admit\"))"
   ]
  },
  {
   "cell_type": "code",
   "execution_count": 9,
   "metadata": {},
   "outputs": [
    {
     "name": "stdout",
     "output_type": "stream",
     "text": [
      "checking \"autos\"| 0/1000\n",
      "checking \"banks\"| 100/1000\n",
      "checking \"charm\"| 200/1000\n",
      "checking \"above\"| 300/1000\n",
      "checking \"rally\"| 400/1000\n",
      "checking \"blair\"| 500/1000\n",
      "checking \"picks\"| 600/1000\n",
      "checking \"order\"| 700/1000\n",
      "checking \"pairs\"| 800/1000\n",
      "checking \"songs\"| 900/1000\n",
      "pair rate: 2080/999000 = 207792.00%\n",
      "participation: 542/1000 = 54.20%\n"
     ]
    }
   ],
   "source": [
    "max_distance = 6\n",
    "count = 0\n",
    "vocabs_involved = set()\n",
    "for i, v1 in enumerate(vocabs_pool):\n",
    "    for j, v2 in enumerate(vocabs_pool):\n",
    "        dist = distance(v1, v2, max_distance=max_distance)\n",
    "        if dist[0] > 0:\n",
    "            count += 1\n",
    "            vocabs_involved = vocabs_involved.union(set(dist[1]))\n",
    "\n",
    "    if i % (num_vocabs // 10) == 0:\n",
    "        print(f'checking \"{v1}\"| {i}/{num_vocabs}')\n",
    "\n",
    "pair_rate = count / (num_vocabs * (num_vocabs - 1))\n",
    "print(f\"pair rate: {count}/{num_vocabs*(num_vocabs-1)} = {pair_rate:.2%}\")\n",
    "\n",
    "participation_rate = len(vocabs_involved) / num_vocabs\n",
    "print(f\"participation: {len(vocabs_involved)}/{num_vocabs} = {participation_rate:.2%}\")"
   ]
  },
  {
   "cell_type": "code",
   "execution_count": 7,
   "metadata": {},
   "outputs": [],
   "source": [
    "def create_distance_graph():\n",
    "    distance_graph: dict[tuple[str, str], tuple[int, list[str]]] = {}\n",
    "\n",
    "    def calculate_distance(from_: str, to: str):\n",
    "        if (from_, to) in distance_graph:\n",
    "            return\n",
    "\n",
    "        min_distance = -1\n",
    "        min_path = []\n",
    "        for new_vocab in change_character(from_):\n",
    "            if new_vocab in vocabs_pool:\n",
    "                calculate_distance(new_vocab, to)\n",
    "                distance, path = distance_graph[(new_vocab, to)]\n",
    "                if min_distance == -1 or 0 <= distance < min_distance:\n",
    "                    min_distance = distance + 1\n",
    "                    min_path = [from_] + path\n",
    "        distance_graph[(from_, to)] = (min_distance, min_path)\n",
    "\n",
    "    for v1 in vocabs_pool:\n",
    "        for v2 in vocabs_pool:\n",
    "            calculate_distance(v1, v2)\n",
    "    return distance_graph\n",
    "\n",
    "\n",
    "# distance_graph = create_distance_graph()\n",
    "# print(distance_graph)"
   ]
  }
 ],
 "metadata": {
  "kernelspec": {
   "display_name": ".venv",
   "language": "python",
   "name": "python3"
  },
  "language_info": {
   "codemirror_mode": {
    "name": "ipython",
    "version": 3
   },
   "file_extension": ".py",
   "mimetype": "text/x-python",
   "name": "python",
   "nbconvert_exporter": "python",
   "pygments_lexer": "ipython3",
   "version": "3.10.11"
  }
 },
 "nbformat": 4,
 "nbformat_minor": 2
}
