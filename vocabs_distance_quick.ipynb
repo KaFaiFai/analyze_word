{
 "cells": [
  {
   "cell_type": "code",
   "execution_count": 1,
   "metadata": {},
   "outputs": [],
   "source": [
    "import json\n",
    "import random\n",
    "import common"
   ]
  },
  {
   "cell_type": "code",
   "execution_count": 2,
   "metadata": {},
   "outputs": [
    {
     "name": "stdout",
     "output_type": "stream",
     "text": [
      "26 abcdefghijklmnopqrstuvwxyz\n",
      "len(vocabs_pool)=2771\n",
      "len(exclusive_pool)=1287\n",
      "['aback', 'abate', 'abbey', 'abbot', 'abhor']\n"
     ]
    }
   ],
   "source": [
    "lang = \"en\"\n",
    "diff = \"medium\"\n",
    "excl = \"easy\"\n",
    "\n",
    "vocabs_pool: set[str] = set()  # for faster in operation\n",
    "vocabs_pool_list: list[str] = []  # for consistent results\n",
    "exclusive_pool: set[str] = set()\n",
    "alphabets: list[str] = []\n",
    "\n",
    "with open(rf\"vocabs\\{lang}\\{lang}-{diff}.json\") as file:\n",
    "    json_data = json.load(file)\n",
    "    for d in json_data:\n",
    "        vocabs_pool.add(d)\n",
    "        vocabs_pool_list.append(d)\n",
    "        exclusive_pool.add(d)\n",
    "        alphabets = list(set(alphabets).union(set(d)))\n",
    "\n",
    "if excl is not None:\n",
    "    with open(rf\"vocabs\\{lang}\\{lang}-{excl}.json\") as file:\n",
    "        json_data = json.load(file)\n",
    "        for d in json_data:\n",
    "            exclusive_pool.remove(d)\n",
    "\n",
    "vocabs_pool_list.sort()\n",
    "alphabets.sort()\n",
    "num_vocabs = len(vocabs_pool)\n",
    "print(len(alphabets), \"\".join(alphabets))\n",
    "print(f\"{len(vocabs_pool)=}\")\n",
    "print(f\"{len(exclusive_pool)=}\")\n",
    "print(vocabs_pool_list[:5])"
   ]
  },
  {
   "cell_type": "code",
   "execution_count": 3,
   "metadata": {},
   "outputs": [
    {
     "name": "stdout",
     "output_type": "stream",
     "text": [
      "checking \"loom\"| 300/3000\n",
      "checking \"till\"| 600/3000\n",
      "checking \"shirk\"| 900/3000\n",
      "checking \"fuel\"| 1200/3000\n",
      "checking \"sport\"| 1500/3000\n",
      "checking \"bend\"| 1800/3000\n",
      "checking \"tile\"| 2100/3000\n",
      "checking \"lady\"| 2400/3000\n",
      "checking \"hawk\"| 2700/3000\n",
      "checking \"lick\"| 3000/3000\n"
     ]
    }
   ],
   "source": [
    "# medium: {\"min_distance\": 4, \"max_distance\": 6, \"strict\": True}\n",
    "from collections import defaultdict\n",
    "\n",
    "target_num_pairs = 3000\n",
    "min_distance = 4\n",
    "max_distance = 6\n",
    "strict = True\n",
    "\n",
    "starter = set()\n",
    "involved = set()\n",
    "counts = defaultdict(lambda: [0, 0])  # vocab, pair, exclusive\n",
    "\n",
    "pairs: list[tuple[str, str]] = []\n",
    "\n",
    "random.seed(0)\n",
    "while len(pairs) < target_num_pairs:\n",
    "    # random.randint to get consistent random results each time\n",
    "    v1_idx = random.randint(0, len(vocabs_pool_list) - 1)\n",
    "    v2_idx = random.randint(0, len(vocabs_pool_list) - 1)\n",
    "    v1 = vocabs_pool_list[v1_idx]\n",
    "    v2 = vocabs_pool_list[v2_idx]\n",
    "    # print(v1_idx, v1, v2_idx, v2)\n",
    "    if (v1, v2) in pairs or (v2, v1) in pairs:\n",
    "        continue\n",
    "\n",
    "    dist = common.distance(v1, v2, vocabs_pool, alphabets, max_distance=max_distance)\n",
    "    if strict:\n",
    "        difference = common.character_difference(v1, v2)\n",
    "        flag = dist[0] > difference and dist[0] >= min_distance\n",
    "    else:\n",
    "        flag = dist[0] >= min_distance\n",
    "\n",
    "    # if the pair has valid path\n",
    "    if flag:\n",
    "        counts[len(v1)][0] += 1\n",
    "        starter.add(v1)\n",
    "        involved = involved.union(set(dist[1]))\n",
    "        # print(dist)\n",
    "\n",
    "        if any(v in exclusive_pool for v in dist[1]):\n",
    "            counts[len(v1)][1] += 1\n",
    "            pairs.append((v1, v2))\n",
    "\n",
    "            num_pair = len(pairs)\n",
    "            if (num_pair + 1) % (target_num_pairs // 10) == 0:\n",
    "                print(f'checking \"{v1}\"| {num_pair+1}/{target_num_pairs}')"
   ]
  },
  {
   "cell_type": "code",
   "execution_count": 4,
   "metadata": {},
   "outputs": [
    {
     "name": "stdout",
     "output_type": "stream",
     "text": [
      "----- pair & exclusive -----\n",
      "len 4:  2772 |  2686\n",
      "len 5:   327 |   314\n",
      "total:  3099 |  3000\n",
      "---------------\n",
      "starter: 1029/2771 = 37.13%\n",
      "participation: 1371/2771 = 49.48%\n"
     ]
    }
   ],
   "source": [
    "total_pairs = 0\n",
    "total_exclusive = 0\n",
    "\n",
    "print_table = []\n",
    "for k, v in counts.items():\n",
    "    count_pair = v[0]\n",
    "    count_exlusive = v[1]\n",
    "\n",
    "    to_print = [f\"len {k}\", f\"{count_pair}\", f\"{count_exlusive}\"]\n",
    "    print_table.append(to_print)\n",
    "\n",
    "    total_pairs += count_pair\n",
    "    total_exclusive += count_exlusive\n",
    "\n",
    "to_print = [f\"total\", f\"{total_pairs}\", f\"{total_exclusive}\"]\n",
    "print_table.append(to_print)\n",
    "\n",
    "print(f\"----- pair & exclusive -----\")\n",
    "for items in print_table:\n",
    "    print(f\"{items[0]:<5}: {items[1]:>5} | {items[2]:>5}\")\n",
    "print(\"-\" * 15)\n",
    "\n",
    "starter_rate = len(starter) / num_vocabs\n",
    "print(f\"starter: {len(starter)}/{num_vocabs} = {starter_rate:.2%}\")\n",
    "\n",
    "participation_rate = len(involved) / num_vocabs\n",
    "print(f\"participation: {len(involved)}/{num_vocabs} = {participation_rate:.2%}\")"
   ]
  },
  {
   "cell_type": "code",
   "execution_count": 5,
   "metadata": {},
   "outputs": [
    {
     "name": "stdout",
     "output_type": "stream",
     "text": [
      "(6, ['damn', 'damp', 'lamp', 'lame', 'same', 'some', 'sore'])\n",
      "(5, ['roar', 'road', 'load', 'lord', 'lore', 'bore'])\n",
      "(4, ['meal', 'deal', 'dual', 'dull', 'bull'])\n",
      "(4, ['sure', 'cure', 'care', 'case', 'vase'])\n",
      "(5, ['will', 'bill', 'bell', 'belt', 'beat', 'bean'])\n"
     ]
    }
   ],
   "source": [
    "with open(rf\"vocabs\\{lang}\\{lang}-pairs-{diff}.json\", \"w\") as f:\n",
    "    json.dump(pairs, f)\n",
    "\n",
    "for i in range(5):\n",
    "    pair = pairs[i]\n",
    "    dist = common.distance(pair[0], pair[1], vocabs_pool, alphabets)\n",
    "    print(dist)"
   ]
  }
 ],
 "metadata": {
  "kernelspec": {
   "display_name": ".venv",
   "language": "python",
   "name": "python3"
  },
  "language_info": {
   "codemirror_mode": {
    "name": "ipython",
    "version": 3
   },
   "file_extension": ".py",
   "mimetype": "text/x-python",
   "name": "python",
   "nbconvert_exporter": "python",
   "pygments_lexer": "ipython3",
   "version": "3.10.11"
  }
 },
 "nbformat": 4,
 "nbformat_minor": 2
}
