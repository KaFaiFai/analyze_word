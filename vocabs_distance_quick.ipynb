{
 "cells": [
  {
   "cell_type": "code",
   "execution_count": 1,
   "metadata": {},
   "outputs": [],
   "source": [
    "import json\n",
    "import random\n",
    "import common\n",
    "from collections import defaultdict\n",
    "import matplotlib.pyplot as plt"
   ]
  },
  {
   "cell_type": "code",
   "execution_count": 2,
   "metadata": {},
   "outputs": [
    {
     "name": "stdout",
     "output_type": "stream",
     "text": [
      "32 abcdefghijklmnopqrstuvwxyzáéíñóú\n",
      "len(vocabs_pool)=2771\n",
      "len(exclusive_pool)=2771\n",
      "['aaron', 'abajo', 'abby', 'abeja', 'abel']\n"
     ]
    }
   ],
   "source": [
    "lang = \"es\"\n",
    "diff = \"easy\"\n",
    "excl = None\n",
    "\n",
    "vocabs_pool: set[str] = set()  # for faster in operation\n",
    "vocabs_pool_list: list[str] = []  # for consistent results\n",
    "exclusive_pool: set[str] = set()\n",
    "alphabets: list[str] = []\n",
    "\n",
    "with open(rf\"vocabs\\{lang}\\{lang}-{diff}.json\") as file:\n",
    "    json_data = json.load(file)\n",
    "    for d in json_data:\n",
    "        vocabs_pool.add(d)\n",
    "        vocabs_pool_list.append(d)\n",
    "        exclusive_pool.add(d)\n",
    "        alphabets = list(set(alphabets).union(set(d)))\n",
    "\n",
    "if excl is not None:\n",
    "    with open(rf\"vocabs\\{lang}\\{lang}-{excl}.json\") as file:\n",
    "        json_data = json.load(file)\n",
    "        for d in json_data:\n",
    "            exclusive_pool.remove(d)\n",
    "\n",
    "vocabs_pool_list.sort()\n",
    "alphabets.sort()\n",
    "num_vocabs = len(vocabs_pool)\n",
    "print(len(alphabets), \"\".join(alphabets))\n",
    "print(f\"{len(vocabs_pool)=}\")\n",
    "print(f\"{len(exclusive_pool)=}\")\n",
    "print(vocabs_pool_list[:5])"
   ]
  },
  {
   "cell_type": "code",
   "execution_count": 3,
   "metadata": {},
   "outputs": [],
   "source": [
    "config = {\n",
    "    \"easy\": {\"min_distance\": 3, \"max_distance\": 5, \"strict\": True},\n",
    "    \"medium\": {\"min_distance\": 4, \"max_distance\": 6, \"strict\": True},\n",
    "    \"hard\": {\"min_distance\": 5, \"max_distance\": 8, \"strict\": True},\n",
    "}\n",
    "\n",
    "target_num_pairs = 3000\n",
    "min_distance = config[diff][\"min_distance\"]\n",
    "max_distance = config[diff][\"max_distance\"]\n",
    "strict = config[diff][\"strict\"]"
   ]
  },
  {
   "cell_type": "code",
   "execution_count": 4,
   "metadata": {},
   "outputs": [
    {
     "name": "stdout",
     "output_type": "stream",
     "text": [
      "checking \"duro\"| 300/3000\n",
      "checking \"tina\"| 600/3000\n",
      "checking \"cuna\"| 900/3000\n",
      "checking \"mimi\"| 1200/3000\n",
      "checking \"june\"| 1500/3000\n",
      "checking \"dale\"| 1800/3000\n",
      "checking \"fino\"| 2100/3000\n",
      "checking \"sube\"| 2400/3000\n",
      "checking \"caiga\"| 2700/3000\n",
      "checking \"culo\"| 3000/3000\n"
     ]
    }
   ],
   "source": [
    "starter = set()\n",
    "involved = set()\n",
    "length_counters = defaultdict(lambda: 0)\n",
    "distance_counters = defaultdict(lambda: 0)\n",
    "\n",
    "pairs: list[tuple[str, str]] = []\n",
    "\n",
    "random.seed(0)\n",
    "while len(pairs) < target_num_pairs:\n",
    "    v1 = random.choice(vocabs_pool_list)\n",
    "    v2 = random.choice(vocabs_pool_list)\n",
    "\n",
    "    if (v1, v2) in pairs or (v2, v1) in pairs:\n",
    "        continue\n",
    "\n",
    "    dist = common.distance(v1, v2, vocabs_pool, alphabets, max_distance=max_distance)\n",
    "    if strict:\n",
    "        difference = common.character_difference(v1, v2)\n",
    "        is_valid = dist[0] > difference and dist[0] >= min_distance\n",
    "    else:\n",
    "        is_valid = dist[0] >= min_distance\n",
    "    is_valid = is_valid and any(v in exclusive_pool for v in dist[1])\n",
    "\n",
    "    if is_valid:\n",
    "        pairs.append((v1, v2))\n",
    "        length_counters[len(v1)] += 1\n",
    "        distance_counters[dist[0]] += 1\n",
    "        starter.add(v1)\n",
    "        involved = involved.union(set(dist[1]))\n",
    "\n",
    "        num_pair = len(pairs)\n",
    "        if (num_pair + 1) % (target_num_pairs // 10) == 0:\n",
    "            print(f'checking \"{v1}\"| {num_pair+1}/{target_num_pairs}')"
   ]
  },
  {
   "cell_type": "code",
   "execution_count": 5,
   "metadata": {},
   "outputs": [
    {
     "name": "stdout",
     "output_type": "stream",
     "text": [
      "starter: 1010/2771 = 36.45%\n",
      "participation: 1356/2771 = 48.94%\n"
     ]
    }
   ],
   "source": [
    "starter_rate = len(starter) / num_vocabs\n",
    "print(f\"starter: {len(starter)}/{num_vocabs} = {starter_rate:.2%}\")\n",
    "\n",
    "participation_rate = len(involved) / num_vocabs\n",
    "print(f\"participation: {len(involved)}/{num_vocabs} = {participation_rate:.2%}\")"
   ]
  },
  {
   "cell_type": "code",
   "execution_count": 6,
   "metadata": {},
   "outputs": [
    {
     "data": {
      "image/png": "[encoded data removed]",
      "text/plain": [
       "<Figure size 640x480 with 2 Axes>"
      ]
     },
     "metadata": {},
     "output_type": "display_data"
    }
   ],
   "source": [
    "fig, (ax1, ax2) = plt.subplots(1, 2)\n",
    "\n",
    "ax1.pie(\n",
    "    length_counters.values(),\n",
    "    labels=length_counters.keys(),\n",
    "    autopct=lambda pct: f\"{pct:.1f}%\\n{int(pct/100*sum(length_counters.values()))}\",\n",
    ")\n",
    "ax1.set_title(\"Length\")\n",
    "\n",
    "ax2.pie(\n",
    "    distance_counters.values(),\n",
    "    labels=distance_counters.keys(),\n",
    "    autopct=lambda pct: f\"{pct:.1f}%\\n{int(pct/100*sum(distance_counters.values()))}\",\n",
    ")\n",
    "ax2.set_title(\"Distance\")\n",
    "\n",
    "plt.subplots_adjust(wspace=0.5)\n",
    "plt.show()"
   ]
  },
  {
   "cell_type": "code",
   "execution_count": 7,
   "metadata": {},
   "outputs": [
    {
     "name": "stdout",
     "output_type": "stream",
     "text": [
      "(5, ['caro', 'cara', 'caía', 'cría', 'crío', 'trío'])\n",
      "(5, ['juro', 'puro', 'paro', 'caro', 'caso', 'cass'])\n",
      "(5, ['pasta', 'hasta', 'harta', 'carta', 'canta', 'cante'])\n",
      "(5, ['lily', 'lila', 'pila', 'pala', 'sala', 'sana'])\n",
      "(4, ['russ', 'ruso', 'puso', 'puro', 'puré'])\n"
     ]
    }
   ],
   "source": [
    "with open(rf\"vocabs\\{lang}\\{lang}-pairs-{diff}.json\", \"w\") as f:\n",
    "    json.dump(pairs, f)\n",
    "\n",
    "for i in range(5):\n",
    "    pair = pairs[i]\n",
    "    dist = common.distance(pair[0], pair[1], vocabs_pool, alphabets)\n",
    "    print(dist)"
   ]
  }
 ],
 "metadata": {
  "kernelspec": {
   "display_name": ".venv",
   "language": "python",
   "name": "python3"
  },
  "language_info": {
   "codemirror_mode": {
    "name": "ipython",
    "version": 3
   },
   "file_extension": ".py",
   "mimetype": "text/x-python",
   "name": "python",
   "nbconvert_exporter": "python",
   "pygments_lexer": "ipython3",
   "version": "3.10.11"
  }
 },
 "nbformat": 4,
 "nbformat_minor": 2
}
