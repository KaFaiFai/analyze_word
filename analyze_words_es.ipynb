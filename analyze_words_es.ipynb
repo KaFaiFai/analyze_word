{
 "cells": [
  {
   "cell_type": "code",
   "execution_count": 9,
   "metadata": {},
   "outputs": [],
   "source": [
    "import json\n",
    "import pandas as pd"
   ]
  },
  {
   "cell_type": "code",
   "execution_count": 10,
   "metadata": {},
   "outputs": [
    {
     "name": "stdout",
     "output_type": "stream",
     "text": [
      "['està', '2664']\n",
      "['màs', '1597']\n",
      "['voilà', '919']\n",
      "['estàs', '587']\n",
      "['papà', '530']\n",
      "['déjà', '411']\n",
      "['mamà', '370']\n",
      "['estàn', '348']\n",
      "['serà', '307']\n",
      "['quizà', '208']\n"
     ]
    }
   ],
   "source": [
    "word_list = []\n",
    "with open(r\"word_list\\spanish\\es_50k.txt\", encoding=\"utf-8\") as file:\n",
    "    for line in file.readlines():\n",
    "        items = line.split()\n",
    "        *words, count = items\n",
    "        word = \" \".join(words)\n",
    "        word_list.append([word, int(count)])\n",
    "        if \"à\" in word:\n",
    "            print(items)"
   ]
  },
  {
   "cell_type": "code",
   "execution_count": 14,
   "metadata": {},
   "outputs": [
    {
     "data": {
      "text/html": [
       "<div>\n",
       "<style scoped>\n",
       "    .dataframe tbody tr th:only-of-type {\n",
       "        vertical-align: middle;\n",
       "    }\n",
       "\n",
       "    .dataframe tbody tr th {\n",
       "        vertical-align: top;\n",
       "    }\n",
       "\n",
       "    .dataframe thead th {\n",
       "        text-align: right;\n",
       "    }\n",
       "</style>\n",
       "<table border=\"1\" class=\"dataframe\">\n",
       "  <thead>\n",
       "    <tr style=\"text-align: right;\">\n",
       "      <th></th>\n",
       "      <th>word</th>\n",
       "      <th>count</th>\n",
       "      <th>word_len</th>\n",
       "    </tr>\n",
       "  </thead>\n",
       "  <tbody>\n",
       "    <tr>\n",
       "      <th>0</th>\n",
       "      <td>a</td>\n",
       "      <td>9549646</td>\n",
       "      <td>1</td>\n",
       "    </tr>\n",
       "    <tr>\n",
       "      <th>1</th>\n",
       "      <td>aa</td>\n",
       "      <td>865</td>\n",
       "      <td>2</td>\n",
       "    </tr>\n",
       "    <tr>\n",
       "      <th>2</th>\n",
       "      <td>aaa</td>\n",
       "      <td>281</td>\n",
       "      <td>3</td>\n",
       "    </tr>\n",
       "    <tr>\n",
       "      <th>3</th>\n",
       "      <td>aaaah</td>\n",
       "      <td>348</td>\n",
       "      <td>5</td>\n",
       "    </tr>\n",
       "    <tr>\n",
       "      <th>4</th>\n",
       "      <td>aaah</td>\n",
       "      <td>848</td>\n",
       "      <td>4</td>\n",
       "    </tr>\n",
       "  </tbody>\n",
       "</table>\n",
       "</div>"
      ],
      "text/plain": [
       "    word    count  word_len\n",
       "0      a  9549646         1\n",
       "1     aa      865         2\n",
       "2    aaa      281         3\n",
       "3  aaaah      348         5\n",
       "4   aaah      848         4"
      ]
     },
     "execution_count": 14,
     "metadata": {},
     "output_type": "execute_result"
    }
   ],
   "source": [
    "df = pd.DataFrame(word_list)\n",
    "df.columns = [\"word\", \"count\"]\n",
    "\n",
    "# only lowercase word\n",
    "df[\"word\"] = df[\"word\"].astype(str).apply(lambda x: x.lower())\n",
    "agg_functions = {\"word\": \"first\", \"count\": \"sum\"}\n",
    "df = df.groupby(df[\"word\"], as_index=False).aggregate(agg_functions)\n",
    "\n",
    "# allowed alphabets\n",
    "df = df[~df[\"word\"].str.contains(\"[ãçëîôõöü]\")]\n",
    "df = df[df[\"word\"].str.isalpha()]\n",
    "\n",
    "# frequent words\n",
    "df = df[df[\"count\"] > df[\"count\"].quantile(0.1)]\n",
    "\n",
    "df[\"word_len\"] = df[\"word\"].apply(len)\n",
    "df = df.sort_values(by=[\"word\"]).reset_index(drop=True)\n",
    "df.head()"
   ]
  },
  {
   "cell_type": "code",
   "execution_count": 15,
   "metadata": {},
   "outputs": [
    {
     "data": {
      "text/plain": [
       "word        object\n",
       "count        int64\n",
       "word_len     int64\n",
       "dtype: object"
      ]
     },
     "execution_count": 15,
     "metadata": {},
     "output_type": "execute_result"
    }
   ],
   "source": [
    "df.dtypes"
   ]
  },
  {
   "cell_type": "code",
   "execution_count": 16,
   "metadata": {},
   "outputs": [
    {
     "data": {
      "text/html": [
       "<div>\n",
       "<style scoped>\n",
       "    .dataframe tbody tr th:only-of-type {\n",
       "        vertical-align: middle;\n",
       "    }\n",
       "\n",
       "    .dataframe tbody tr th {\n",
       "        vertical-align: top;\n",
       "    }\n",
       "\n",
       "    .dataframe thead th {\n",
       "        text-align: right;\n",
       "    }\n",
       "</style>\n",
       "<table border=\"1\" class=\"dataframe\">\n",
       "  <thead>\n",
       "    <tr style=\"text-align: right;\">\n",
       "      <th></th>\n",
       "      <th>count</th>\n",
       "      <th>word_len</th>\n",
       "    </tr>\n",
       "  </thead>\n",
       "  <tbody>\n",
       "    <tr>\n",
       "      <th>count</th>\n",
       "      <td>4.452100e+04</td>\n",
       "      <td>44521.000000</td>\n",
       "    </tr>\n",
       "    <tr>\n",
       "      <th>mean</th>\n",
       "      <td>9.236393e+03</td>\n",
       "      <td>7.536174</td>\n",
       "    </tr>\n",
       "    <tr>\n",
       "      <th>std</th>\n",
       "      <td>1.678464e+05</td>\n",
       "      <td>2.381240</td>\n",
       "    </tr>\n",
       "    <tr>\n",
       "      <th>min</th>\n",
       "      <td>2.240000e+02</td>\n",
       "      <td>1.000000</td>\n",
       "    </tr>\n",
       "    <tr>\n",
       "      <th>25%</th>\n",
       "      <td>3.670000e+02</td>\n",
       "      <td>6.000000</td>\n",
       "    </tr>\n",
       "    <tr>\n",
       "      <th>50%</th>\n",
       "      <td>7.060000e+02</td>\n",
       "      <td>7.000000</td>\n",
       "    </tr>\n",
       "    <tr>\n",
       "      <th>75%</th>\n",
       "      <td>1.965000e+03</td>\n",
       "      <td>9.000000</td>\n",
       "    </tr>\n",
       "    <tr>\n",
       "      <th>max</th>\n",
       "      <td>1.445952e+07</td>\n",
       "      <td>19.000000</td>\n",
       "    </tr>\n",
       "  </tbody>\n",
       "</table>\n",
       "</div>"
      ],
      "text/plain": [
       "              count      word_len\n",
       "count  4.452100e+04  44521.000000\n",
       "mean   9.236393e+03      7.536174\n",
       "std    1.678464e+05      2.381240\n",
       "min    2.240000e+02      1.000000\n",
       "25%    3.670000e+02      6.000000\n",
       "50%    7.060000e+02      7.000000\n",
       "75%    1.965000e+03      9.000000\n",
       "max    1.445952e+07     19.000000"
      ]
     },
     "execution_count": 16,
     "metadata": {},
     "output_type": "execute_result"
    }
   ],
   "source": [
    "df.describe()"
   ]
  },
  {
   "cell_type": "code",
   "execution_count": 19,
   "metadata": {},
   "outputs": [
    {
     "data": {
      "text/html": [
       "<div>\n",
       "<style scoped>\n",
       "    .dataframe tbody tr th:only-of-type {\n",
       "        vertical-align: middle;\n",
       "    }\n",
       "\n",
       "    .dataframe tbody tr th {\n",
       "        vertical-align: top;\n",
       "    }\n",
       "\n",
       "    .dataframe thead th {\n",
       "        text-align: right;\n",
       "    }\n",
       "</style>\n",
       "<table border=\"1\" class=\"dataframe\">\n",
       "  <thead>\n",
       "    <tr style=\"text-align: right;\">\n",
       "      <th></th>\n",
       "      <th>count</th>\n",
       "      <th>word_len</th>\n",
       "    </tr>\n",
       "  </thead>\n",
       "  <tbody>\n",
       "    <tr>\n",
       "      <th>count</th>\n",
       "      <td>8.771000e+03</td>\n",
       "      <td>8771.000000</td>\n",
       "    </tr>\n",
       "    <tr>\n",
       "      <th>mean</th>\n",
       "      <td>1.951570e+04</td>\n",
       "      <td>4.431650</td>\n",
       "    </tr>\n",
       "    <tr>\n",
       "      <th>std</th>\n",
       "      <td>2.030501e+05</td>\n",
       "      <td>0.704585</td>\n",
       "    </tr>\n",
       "    <tr>\n",
       "      <th>min</th>\n",
       "      <td>2.240000e+02</td>\n",
       "      <td>3.000000</td>\n",
       "    </tr>\n",
       "    <tr>\n",
       "      <th>25%</th>\n",
       "      <td>4.050000e+02</td>\n",
       "      <td>4.000000</td>\n",
       "    </tr>\n",
       "    <tr>\n",
       "      <th>50%</th>\n",
       "      <td>9.290000e+02</td>\n",
       "      <td>5.000000</td>\n",
       "    </tr>\n",
       "    <tr>\n",
       "      <th>75%</th>\n",
       "      <td>3.483000e+03</td>\n",
       "      <td>5.000000</td>\n",
       "    </tr>\n",
       "    <tr>\n",
       "      <th>max</th>\n",
       "      <td>1.442100e+07</td>\n",
       "      <td>5.000000</td>\n",
       "    </tr>\n",
       "  </tbody>\n",
       "</table>\n",
       "</div>"
      ],
      "text/plain": [
       "              count     word_len\n",
       "count  8.771000e+03  8771.000000\n",
       "mean   1.951570e+04     4.431650\n",
       "std    2.030501e+05     0.704585\n",
       "min    2.240000e+02     3.000000\n",
       "25%    4.050000e+02     4.000000\n",
       "50%    9.290000e+02     5.000000\n",
       "75%    3.483000e+03     5.000000\n",
       "max    1.442100e+07     5.000000"
      ]
     },
     "execution_count": 19,
     "metadata": {},
     "output_type": "execute_result"
    }
   ],
   "source": [
    "df[(df[\"word_len\"] >= 3) & (df[\"word_len\"] <= 5) & (df[\"count\"] > 1)].describe()"
   ]
  },
  {
   "cell_type": "code",
   "execution_count": 21,
   "metadata": {},
   "outputs": [
    {
     "data": {
      "text/html": [
       "<div>\n",
       "<style scoped>\n",
       "    .dataframe tbody tr th:only-of-type {\n",
       "        vertical-align: middle;\n",
       "    }\n",
       "\n",
       "    .dataframe tbody tr th {\n",
       "        vertical-align: top;\n",
       "    }\n",
       "\n",
       "    .dataframe thead th {\n",
       "        text-align: right;\n",
       "    }\n",
       "</style>\n",
       "<table border=\"1\" class=\"dataframe\">\n",
       "  <thead>\n",
       "    <tr style=\"text-align: right;\">\n",
       "      <th></th>\n",
       "      <th>word</th>\n",
       "      <th>count</th>\n",
       "      <th>word_len</th>\n",
       "    </tr>\n",
       "  </thead>\n",
       "  <tbody>\n",
       "    <tr>\n",
       "      <th>25082</th>\n",
       "      <td>libro</td>\n",
       "      <td>64445</td>\n",
       "      <td>5</td>\n",
       "    </tr>\n",
       "    <tr>\n",
       "      <th>25083</th>\n",
       "      <td>libros</td>\n",
       "      <td>28603</td>\n",
       "      <td>6</td>\n",
       "    </tr>\n",
       "  </tbody>\n",
       "</table>\n",
       "</div>"
      ],
      "text/plain": [
       "         word  count  word_len\n",
       "25082   libro  64445         5\n",
       "25083  libros  28603         6"
      ]
     },
     "execution_count": 21,
     "metadata": {},
     "output_type": "execute_result"
    }
   ],
   "source": [
    "df.query(\"'libro' in word or 'libros' in word\")"
   ]
  },
  {
   "cell_type": "code",
   "execution_count": 23,
   "metadata": {},
   "outputs": [
    {
     "name": "stdout",
     "output_type": "stream",
     "text": [
      "len4: #418, len5: #978\n",
      "vocabs\\es\\es-easy.json: 1396 words\n",
      "len4: #1113, len5: #2199\n",
      "vocabs\\es\\es-medium.json: 3312 words\n",
      "len4: #1670, len5: #3176\n",
      "vocabs\\es\\es-hard.json: 4846 words\n",
      "len4: #2775, len5: #4878\n",
      "vocabs\\es\\es-all.json: 7653 words\n"
     ]
    }
   ],
   "source": [
    "difficulties = {\"easy\": 0.85, \"medium\": 0.6, \"hard\": 0.4, \"all\": 0}\n",
    "min_len = 4\n",
    "max_len = 5\n",
    "\n",
    "for name, base_percentile in difficulties.items():\n",
    "    dfs_filtered: list[pd.DataFrame] = []\n",
    "    lengths: list[str] = []\n",
    "    for l in range(min_len, max_len + 1):\n",
    "        df_len = df[df[\"word_len\"] == l]\n",
    "        # longer words need larger vocab pool\n",
    "        percentile = max(base_percentile - (l - min_len) * 0.05, 0)\n",
    "        cutoff = df_len[\"count\"].quantile(percentile)\n",
    "        dfs_filtered.append(\n",
    "            df_len[df_len[\"count\"] > cutoff]\n",
    "            .sort_values(by=[\"count\"], ascending=False)\n",
    "            .reset_index(drop=True)\n",
    "        )\n",
    "        lengths.append(f\"len{l}: #{len(dfs_filtered[-1])}\")\n",
    "    df_filtered = pd.concat(dfs_filtered)\n",
    "\n",
    "    print(\", \".join(lengths))\n",
    "\n",
    "    with open(rf\"vocabs\\es\\es-{name}.json\", \"w\") as f:\n",
    "        data = df_filtered[\"word\"].sort_values().tolist()\n",
    "        json.dump(data, f)\n",
    "        print(f\"{f.name}: {len(df_filtered)} words\")"
   ]
  }
 ],
 "metadata": {
  "kernelspec": {
   "display_name": ".venv",
   "language": "python",
   "name": "python3"
  },
  "language_info": {
   "codemirror_mode": {
    "name": "ipython",
    "version": 3
   },
   "file_extension": ".py",
   "mimetype": "text/x-python",
   "name": "python",
   "nbconvert_exporter": "python",
   "pygments_lexer": "ipython3",
   "version": "3.10.11"
  }
 },
 "nbformat": 4,
 "nbformat_minor": 2
}
