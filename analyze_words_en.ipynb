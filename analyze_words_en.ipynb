{
 "cells": [
  {
   "cell_type": "code",
   "execution_count": 1,
   "metadata": {},
   "outputs": [],
   "source": [
    "import json\n",
    "import pandas as pd\n",
    "import common"
   ]
  },
  {
   "cell_type": "code",
   "execution_count": 2,
   "metadata": {},
   "outputs": [
    {
     "name": "stdout",
     "output_type": "stream",
     "text": [
      "[['the', 18399669358], ['of', 12042045526], ['be', 9032373066], ['and', 8588851162], ['to', 7305545226]]\n"
     ]
    }
   ],
   "source": [
    "word_list = []\n",
    "with open(r\"word_list\\english\\frequency_list.txt\", encoding=\"utf-8\") as file:\n",
    "    for line in file.readlines():\n",
    "        items = line.split()\n",
    "        *words, count = items\n",
    "        word = \" \".join(words)\n",
    "        word_list.append([word, int(count)])\n",
    "print(word_list[:5])"
   ]
  },
  {
   "cell_type": "code",
   "execution_count": 3,
   "metadata": {},
   "outputs": [
    {
     "data": {
      "image/png": "[encoded data removed]",
      "text/plain": [
       "<Figure size 640x480 with 1 Axes>"
      ]
     },
     "metadata": {},
     "output_type": "display_data"
    },
    {
     "name": "stdout",
     "output_type": "stream",
     "text": [
      "all alphabets: abcdefghijklmnopqrstuvwxyz\n",
      "non_alphas: \n",
      "less_than_10: \n",
      "outliers: \n",
      "remainings: abcdefghijklmnopqrstuvwxyz\n"
     ]
    }
   ],
   "source": [
    "df = pd.DataFrame(word_list)\n",
    "df.columns = [\"word\", \"count\"]\n",
    "common.plot_count_graph(df)\n",
    "common.analyze_alphabets(df)"
   ]
  },
  {
   "cell_type": "code",
   "execution_count": 4,
   "metadata": {},
   "outputs": [
    {
     "data": {
      "text/html": [
       "<div>\n",
       "<style scoped>\n",
       "    .dataframe tbody tr th:only-of-type {\n",
       "        vertical-align: middle;\n",
       "    }\n",
       "\n",
       "    .dataframe tbody tr th {\n",
       "        vertical-align: top;\n",
       "    }\n",
       "\n",
       "    .dataframe thead th {\n",
       "        text-align: right;\n",
       "    }\n",
       "</style>\n",
       "<table border=\"1\" class=\"dataframe\">\n",
       "  <thead>\n",
       "    <tr style=\"text-align: right;\">\n",
       "      <th></th>\n",
       "      <th>word</th>\n",
       "      <th>count</th>\n",
       "      <th>word_len</th>\n",
       "    </tr>\n",
       "  </thead>\n",
       "  <tbody>\n",
       "    <tr>\n",
       "      <th>0</th>\n",
       "      <td>a</td>\n",
       "      <td>6394255549</td>\n",
       "      <td>1</td>\n",
       "    </tr>\n",
       "    <tr>\n",
       "      <th>1</th>\n",
       "      <td>aachen</td>\n",
       "      <td>1996</td>\n",
       "      <td>6</td>\n",
       "    </tr>\n",
       "    <tr>\n",
       "      <th>2</th>\n",
       "      <td>aaron</td>\n",
       "      <td>1259</td>\n",
       "      <td>5</td>\n",
       "    </tr>\n",
       "    <tr>\n",
       "      <th>3</th>\n",
       "      <td>aba</td>\n",
       "      <td>68071</td>\n",
       "      <td>3</td>\n",
       "    </tr>\n",
       "    <tr>\n",
       "      <th>4</th>\n",
       "      <td>ababa</td>\n",
       "      <td>1298</td>\n",
       "      <td>5</td>\n",
       "    </tr>\n",
       "  </tbody>\n",
       "</table>\n",
       "</div>"
      ],
      "text/plain": [
       "     word       count  word_len\n",
       "0       a  6394255549         1\n",
       "1  aachen        1996         6\n",
       "2   aaron        1259         5\n",
       "3     aba       68071         3\n",
       "4   ababa        1298         5"
      ]
     },
     "execution_count": 4,
     "metadata": {},
     "output_type": "execute_result"
    }
   ],
   "source": [
    "# only lowercase word\n",
    "df[\"word\"] = df[\"word\"].apply(lambda x: str(x).lower())\n",
    "agg_functions = {\"word\": \"first\", \"count\": \"sum\"}\n",
    "df = df.groupby(df[\"word\"], as_index=False).aggregate(agg_functions)\n",
    "\n",
    "# allowed alphabets\n",
    "allowed_alphabets = \"abcdefghijklmnopqrstuvwxyz\"\n",
    "df = df[df[\"word\"].str.contains(f\"^[{allowed_alphabets}]+$\")]\n",
    "\n",
    "# frequent words\n",
    "df = df[df[\"count\"] > df[\"count\"].quantile(0.1)]\n",
    "\n",
    "df[\"word_len\"] = df[\"word\"].apply(len)\n",
    "df = df.sort_values(by=[\"word\"]).reset_index(drop=True)\n",
    "df.head()"
   ]
  },
  {
   "cell_type": "code",
   "execution_count": 5,
   "metadata": {},
   "outputs": [
    {
     "data": {
      "text/plain": [
       "word        object\n",
       "count        int64\n",
       "word_len     int64\n",
       "dtype: object"
      ]
     },
     "execution_count": 5,
     "metadata": {},
     "output_type": "execute_result"
    }
   ],
   "source": [
    "df.dtypes"
   ]
  },
  {
   "cell_type": "code",
   "execution_count": 6,
   "metadata": {},
   "outputs": [
    {
     "data": {
      "text/html": [
       "<div>\n",
       "<style scoped>\n",
       "    .dataframe tbody tr th:only-of-type {\n",
       "        vertical-align: middle;\n",
       "    }\n",
       "\n",
       "    .dataframe tbody tr th {\n",
       "        vertical-align: top;\n",
       "    }\n",
       "\n",
       "    .dataframe thead th {\n",
       "        text-align: right;\n",
       "    }\n",
       "</style>\n",
       "<table border=\"1\" class=\"dataframe\">\n",
       "  <thead>\n",
       "    <tr style=\"text-align: right;\">\n",
       "      <th></th>\n",
       "      <th>count</th>\n",
       "      <th>word_len</th>\n",
       "    </tr>\n",
       "  </thead>\n",
       "  <tbody>\n",
       "    <tr>\n",
       "      <th>count</th>\n",
       "      <td>4.802800e+04</td>\n",
       "      <td>48028.000000</td>\n",
       "    </tr>\n",
       "    <tr>\n",
       "      <th>mean</th>\n",
       "      <td>5.069854e+06</td>\n",
       "      <td>8.225327</td>\n",
       "    </tr>\n",
       "    <tr>\n",
       "      <th>std</th>\n",
       "      <td>1.329803e+08</td>\n",
       "      <td>2.652167</td>\n",
       "    </tr>\n",
       "    <tr>\n",
       "      <th>min</th>\n",
       "      <td>5.880000e+02</td>\n",
       "      <td>1.000000</td>\n",
       "    </tr>\n",
       "    <tr>\n",
       "      <th>25%</th>\n",
       "      <td>1.273050e+04</td>\n",
       "      <td>6.000000</td>\n",
       "    </tr>\n",
       "    <tr>\n",
       "      <th>50%</th>\n",
       "      <td>9.478500e+04</td>\n",
       "      <td>8.000000</td>\n",
       "    </tr>\n",
       "    <tr>\n",
       "      <th>75%</th>\n",
       "      <td>6.230600e+05</td>\n",
       "      <td>10.000000</td>\n",
       "    </tr>\n",
       "    <tr>\n",
       "      <th>max</th>\n",
       "      <td>1.839967e+10</td>\n",
       "      <td>29.000000</td>\n",
       "    </tr>\n",
       "  </tbody>\n",
       "</table>\n",
       "</div>"
      ],
      "text/plain": [
       "              count      word_len\n",
       "count  4.802800e+04  48028.000000\n",
       "mean   5.069854e+06      8.225327\n",
       "std    1.329803e+08      2.652167\n",
       "min    5.880000e+02      1.000000\n",
       "25%    1.273050e+04      6.000000\n",
       "50%    9.478500e+04      8.000000\n",
       "75%    6.230600e+05     10.000000\n",
       "max    1.839967e+10     29.000000"
      ]
     },
     "execution_count": 6,
     "metadata": {},
     "output_type": "execute_result"
    }
   ],
   "source": [
    "df.describe()"
   ]
  },
  {
   "cell_type": "code",
   "execution_count": 7,
   "metadata": {},
   "outputs": [
    {
     "data": {
      "text/html": [
       "<div>\n",
       "<style scoped>\n",
       "    .dataframe tbody tr th:only-of-type {\n",
       "        vertical-align: middle;\n",
       "    }\n",
       "\n",
       "    .dataframe tbody tr th {\n",
       "        vertical-align: top;\n",
       "    }\n",
       "\n",
       "    .dataframe thead th {\n",
       "        text-align: right;\n",
       "    }\n",
       "</style>\n",
       "<table border=\"1\" class=\"dataframe\">\n",
       "  <thead>\n",
       "    <tr style=\"text-align: right;\">\n",
       "      <th></th>\n",
       "      <th>count</th>\n",
       "      <th>word_len</th>\n",
       "    </tr>\n",
       "  </thead>\n",
       "  <tbody>\n",
       "    <tr>\n",
       "      <th>count</th>\n",
       "      <td>6.281000e+03</td>\n",
       "      <td>6281.000000</td>\n",
       "    </tr>\n",
       "    <tr>\n",
       "      <th>mean</th>\n",
       "      <td>1.903572e+07</td>\n",
       "      <td>4.393727</td>\n",
       "    </tr>\n",
       "    <tr>\n",
       "      <th>std</th>\n",
       "      <td>2.728925e+08</td>\n",
       "      <td>0.699102</td>\n",
       "    </tr>\n",
       "    <tr>\n",
       "      <th>min</th>\n",
       "      <td>1.000400e+04</td>\n",
       "      <td>3.000000</td>\n",
       "    </tr>\n",
       "    <tr>\n",
       "      <th>25%</th>\n",
       "      <td>8.981000e+04</td>\n",
       "      <td>4.000000</td>\n",
       "    </tr>\n",
       "    <tr>\n",
       "      <th>50%</th>\n",
       "      <td>5.074540e+05</td>\n",
       "      <td>5.000000</td>\n",
       "    </tr>\n",
       "    <tr>\n",
       "      <th>75%</th>\n",
       "      <td>3.416571e+06</td>\n",
       "      <td>5.000000</td>\n",
       "    </tr>\n",
       "    <tr>\n",
       "      <th>max</th>\n",
       "      <td>1.839967e+10</td>\n",
       "      <td>5.000000</td>\n",
       "    </tr>\n",
       "  </tbody>\n",
       "</table>\n",
       "</div>"
      ],
      "text/plain": [
       "              count     word_len\n",
       "count  6.281000e+03  6281.000000\n",
       "mean   1.903572e+07     4.393727\n",
       "std    2.728925e+08     0.699102\n",
       "min    1.000400e+04     3.000000\n",
       "25%    8.981000e+04     4.000000\n",
       "50%    5.074540e+05     5.000000\n",
       "75%    3.416571e+06     5.000000\n",
       "max    1.839967e+10     5.000000"
      ]
     },
     "execution_count": 7,
     "metadata": {},
     "output_type": "execute_result"
    }
   ],
   "source": [
    "df.query(\"count > 10000 and word_len >= 3 and word_len <= 5\").describe()"
   ]
  },
  {
   "cell_type": "code",
   "execution_count": 8,
   "metadata": {},
   "outputs": [
    {
     "data": {
      "text/html": [
       "<div>\n",
       "<style scoped>\n",
       "    .dataframe tbody tr th:only-of-type {\n",
       "        vertical-align: middle;\n",
       "    }\n",
       "\n",
       "    .dataframe tbody tr th {\n",
       "        vertical-align: top;\n",
       "    }\n",
       "\n",
       "    .dataframe thead th {\n",
       "        text-align: right;\n",
       "    }\n",
       "</style>\n",
       "<table border=\"1\" class=\"dataframe\">\n",
       "  <thead>\n",
       "    <tr style=\"text-align: right;\">\n",
       "      <th></th>\n",
       "      <th>count</th>\n",
       "      <th>word_len</th>\n",
       "    </tr>\n",
       "  </thead>\n",
       "  <tbody>\n",
       "    <tr>\n",
       "      <th>count</th>\n",
       "      <td>5.496000e+03</td>\n",
       "      <td>5496.000000</td>\n",
       "    </tr>\n",
       "    <tr>\n",
       "      <th>mean</th>\n",
       "      <td>1.254375e+07</td>\n",
       "      <td>4.592795</td>\n",
       "    </tr>\n",
       "    <tr>\n",
       "      <th>std</th>\n",
       "      <td>8.408108e+07</td>\n",
       "      <td>0.491358</td>\n",
       "    </tr>\n",
       "    <tr>\n",
       "      <th>min</th>\n",
       "      <td>1.000400e+04</td>\n",
       "      <td>4.000000</td>\n",
       "    </tr>\n",
       "    <tr>\n",
       "      <th>25%</th>\n",
       "      <td>8.462700e+04</td>\n",
       "      <td>4.000000</td>\n",
       "    </tr>\n",
       "    <tr>\n",
       "      <th>50%</th>\n",
       "      <td>4.711435e+05</td>\n",
       "      <td>5.000000</td>\n",
       "    </tr>\n",
       "    <tr>\n",
       "      <th>75%</th>\n",
       "      <td>3.238747e+06</td>\n",
       "      <td>5.000000</td>\n",
       "    </tr>\n",
       "    <tr>\n",
       "      <th>max</th>\n",
       "      <td>3.246059e+09</td>\n",
       "      <td>5.000000</td>\n",
       "    </tr>\n",
       "  </tbody>\n",
       "</table>\n",
       "</div>"
      ],
      "text/plain": [
       "              count     word_len\n",
       "count  5.496000e+03  5496.000000\n",
       "mean   1.254375e+07     4.592795\n",
       "std    8.408108e+07     0.491358\n",
       "min    1.000400e+04     4.000000\n",
       "25%    8.462700e+04     4.000000\n",
       "50%    4.711435e+05     5.000000\n",
       "75%    3.238747e+06     5.000000\n",
       "max    3.246059e+09     5.000000"
      ]
     },
     "execution_count": 8,
     "metadata": {},
     "output_type": "execute_result"
    }
   ],
   "source": [
    "df[(df[\"word_len\"] >= 4) & (df[\"word_len\"] <= 5) & (df[\"count\"] > 10000)].describe()"
   ]
  },
  {
   "cell_type": "code",
   "execution_count": 9,
   "metadata": {},
   "outputs": [
    {
     "data": {
      "text/html": [
       "<div>\n",
       "<style scoped>\n",
       "    .dataframe tbody tr th:only-of-type {\n",
       "        vertical-align: middle;\n",
       "    }\n",
       "\n",
       "    .dataframe tbody tr th {\n",
       "        vertical-align: top;\n",
       "    }\n",
       "\n",
       "    .dataframe thead th {\n",
       "        text-align: right;\n",
       "    }\n",
       "</style>\n",
       "<table border=\"1\" class=\"dataframe\">\n",
       "  <thead>\n",
       "    <tr style=\"text-align: right;\">\n",
       "      <th></th>\n",
       "      <th>word</th>\n",
       "      <th>count</th>\n",
       "      <th>word_len</th>\n",
       "    </tr>\n",
       "  </thead>\n",
       "  <tbody>\n",
       "    <tr>\n",
       "      <th>10828</th>\n",
       "      <td>deceive</td>\n",
       "      <td>4596724</td>\n",
       "      <td>7</td>\n",
       "    </tr>\n",
       "  </tbody>\n",
       "</table>\n",
       "</div>"
      ],
      "text/plain": [
       "          word    count  word_len\n",
       "10828  deceive  4596724         7"
      ]
     },
     "execution_count": 9,
     "metadata": {},
     "output_type": "execute_result"
    }
   ],
   "source": [
    "df.query(\"'deceive' in word or 'deceived' in word\")"
   ]
  },
  {
   "cell_type": "code",
   "execution_count": 10,
   "metadata": {},
   "outputs": [
    {
     "name": "stdout",
     "output_type": "stream",
     "text": [
      "len4: #1004, len5: #1571\n",
      "vocabs\\en\\en-easy.json: 2575 words\n",
      "len4: #1506, len5: #2356\n",
      "vocabs\\en\\en-medium.json: 3862 words\n",
      "len4: #2008, len5: #3141\n",
      "vocabs\\en\\en-hard.json: 5149 words\n",
      "len4: #2509, len5: #3925\n",
      "vocabs\\en\\en-all.json: 6434 words\n"
     ]
    }
   ],
   "source": [
    "difficulties = {\"easy\": 0.6, \"medium\": 0.4, \"hard\": 0.2, \"all\": 0}\n",
    "min_len = 4\n",
    "max_len = 5\n",
    "\n",
    "for name, percentile in difficulties.items():\n",
    "    dfs_filtered: list[pd.DataFrame] = []\n",
    "    lengths: list[str] = []\n",
    "    for l in range(min_len, max_len + 1):\n",
    "        df_len = df[df[\"word_len\"] == l]\n",
    "        cutoff = df_len[\"count\"].quantile(percentile)\n",
    "        dfs_filtered.append(\n",
    "            df_len[df_len[\"count\"] > cutoff]\n",
    "            .sort_values(by=[\"count\"], ascending=False)\n",
    "            .reset_index(drop=True)\n",
    "        )\n",
    "        lengths.append(f\"len{l}: #{len(dfs_filtered[-1])}\")\n",
    "    df_filtered = pd.concat(dfs_filtered)\n",
    "\n",
    "    print(\", \".join(lengths))\n",
    "\n",
    "    with open(rf\"vocabs\\en\\en-{name}.json\", \"w\") as f:\n",
    "        data = df_filtered[\"word\"].sort_values().tolist()\n",
    "        json.dump(data, f)\n",
    "        print(f\"{f.name}: {len(df_filtered)} words\")"
   ]
  }
 ],
 "metadata": {
  "kernelspec": {
   "display_name": ".venv",
   "language": "python",
   "name": "python3"
  },
  "language_info": {
   "codemirror_mode": {
    "name": "ipython",
    "version": 3
   },
   "file_extension": ".py",
   "mimetype": "text/x-python",
   "name": "python",
   "nbconvert_exporter": "python",
   "pygments_lexer": "ipython3",
   "version": "3.10.11"
  }
 },
 "nbformat": 4,
 "nbformat_minor": 2
}
